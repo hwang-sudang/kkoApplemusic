{
  "nbformat": 4,
  "nbformat_minor": 0,
  "metadata": {
    "colab": {
      "name": "0723 Autoencoder.ipynb",
      "provenance": [],
      "authorship_tag": "ABX9TyMIgUuncMv46QMMwdiZHoUE",
      "include_colab_link": true
    },
    "kernelspec": {
      "name": "python3",
      "display_name": "Python 3"
    },
    "accelerator": "GPU",
    "widgets": {
      "application/vnd.jupyter.widget-state+json": {
        "e2202b995ec943a2904bb66ee953f56a": {
          "model_module": "@jupyter-widgets/controls",
          "model_name": "HBoxModel",
          "state": {
            "_view_name": "HBoxView",
            "_dom_classes": [],
            "_model_name": "HBoxModel",
            "_view_module": "@jupyter-widgets/controls",
            "_model_module_version": "1.5.0",
            "_view_count": null,
            "_view_module_version": "1.5.0",
            "box_style": "",
            "layout": "IPY_MODEL_b46f734029f846889190bf9f9bd96ddb",
            "_model_module": "@jupyter-widgets/controls",
            "children": [
              "IPY_MODEL_e3a89dfc20c3463cb30e806dc5c849bc",
              "IPY_MODEL_4f6e531931ac4fdd99ccda57bed6983c"
            ]
          }
        },
        "b46f734029f846889190bf9f9bd96ddb": {
          "model_module": "@jupyter-widgets/base",
          "model_name": "LayoutModel",
          "state": {
            "_view_name": "LayoutView",
            "grid_template_rows": null,
            "right": null,
            "justify_content": null,
            "_view_module": "@jupyter-widgets/base",
            "overflow": null,
            "_model_module_version": "1.2.0",
            "_view_count": null,
            "flex_flow": null,
            "width": null,
            "min_width": null,
            "border": null,
            "align_items": null,
            "bottom": null,
            "_model_module": "@jupyter-widgets/base",
            "top": null,
            "grid_column": null,
            "overflow_y": null,
            "overflow_x": null,
            "grid_auto_flow": null,
            "grid_area": null,
            "grid_template_columns": null,
            "flex": null,
            "_model_name": "LayoutModel",
            "justify_items": null,
            "grid_row": null,
            "max_height": null,
            "align_content": null,
            "visibility": null,
            "align_self": null,
            "height": null,
            "min_height": null,
            "padding": null,
            "grid_auto_rows": null,
            "grid_gap": null,
            "max_width": null,
            "order": null,
            "_view_module_version": "1.2.0",
            "grid_template_areas": null,
            "object_position": null,
            "object_fit": null,
            "grid_auto_columns": null,
            "margin": null,
            "display": null,
            "left": null
          }
        },
        "e3a89dfc20c3463cb30e806dc5c849bc": {
          "model_module": "@jupyter-widgets/controls",
          "model_name": "FloatProgressModel",
          "state": {
            "_view_name": "ProgressView",
            "style": "IPY_MODEL_8c811c56b63f431aab73459d0cc9ecf8",
            "_dom_classes": [],
            "description": "100%",
            "_model_name": "FloatProgressModel",
            "bar_style": "success",
            "max": 115070,
            "_view_module": "@jupyter-widgets/controls",
            "_model_module_version": "1.5.0",
            "value": 115070,
            "_view_count": null,
            "_view_module_version": "1.5.0",
            "orientation": "horizontal",
            "min": 0,
            "description_tooltip": null,
            "_model_module": "@jupyter-widgets/controls",
            "layout": "IPY_MODEL_728e038d9bd44573ac990adb5271c3a0"
          }
        },
        "4f6e531931ac4fdd99ccda57bed6983c": {
          "model_module": "@jupyter-widgets/controls",
          "model_name": "HTMLModel",
          "state": {
            "_view_name": "HTMLView",
            "style": "IPY_MODEL_36627ad04b144cfe91368345758e8dd2",
            "_dom_classes": [],
            "description": "",
            "_model_name": "HTMLModel",
            "placeholder": "​",
            "_view_module": "@jupyter-widgets/controls",
            "_model_module_version": "1.5.0",
            "value": " 115070/115070 [21:33&lt;00:00, 88.98it/s]",
            "_view_count": null,
            "_view_module_version": "1.5.0",
            "description_tooltip": null,
            "_model_module": "@jupyter-widgets/controls",
            "layout": "IPY_MODEL_1bbe9dfd0af14f15a85c8edf0bf08469"
          }
        },
        "8c811c56b63f431aab73459d0cc9ecf8": {
          "model_module": "@jupyter-widgets/controls",
          "model_name": "ProgressStyleModel",
          "state": {
            "_view_name": "StyleView",
            "_model_name": "ProgressStyleModel",
            "description_width": "initial",
            "_view_module": "@jupyter-widgets/base",
            "_model_module_version": "1.5.0",
            "_view_count": null,
            "_view_module_version": "1.2.0",
            "bar_color": null,
            "_model_module": "@jupyter-widgets/controls"
          }
        },
        "728e038d9bd44573ac990adb5271c3a0": {
          "model_module": "@jupyter-widgets/base",
          "model_name": "LayoutModel",
          "state": {
            "_view_name": "LayoutView",
            "grid_template_rows": null,
            "right": null,
            "justify_content": null,
            "_view_module": "@jupyter-widgets/base",
            "overflow": null,
            "_model_module_version": "1.2.0",
            "_view_count": null,
            "flex_flow": null,
            "width": null,
            "min_width": null,
            "border": null,
            "align_items": null,
            "bottom": null,
            "_model_module": "@jupyter-widgets/base",
            "top": null,
            "grid_column": null,
            "overflow_y": null,
            "overflow_x": null,
            "grid_auto_flow": null,
            "grid_area": null,
            "grid_template_columns": null,
            "flex": null,
            "_model_name": "LayoutModel",
            "justify_items": null,
            "grid_row": null,
            "max_height": null,
            "align_content": null,
            "visibility": null,
            "align_self": null,
            "height": null,
            "min_height": null,
            "padding": null,
            "grid_auto_rows": null,
            "grid_gap": null,
            "max_width": null,
            "order": null,
            "_view_module_version": "1.2.0",
            "grid_template_areas": null,
            "object_position": null,
            "object_fit": null,
            "grid_auto_columns": null,
            "margin": null,
            "display": null,
            "left": null
          }
        },
        "36627ad04b144cfe91368345758e8dd2": {
          "model_module": "@jupyter-widgets/controls",
          "model_name": "DescriptionStyleModel",
          "state": {
            "_view_name": "StyleView",
            "_model_name": "DescriptionStyleModel",
            "description_width": "",
            "_view_module": "@jupyter-widgets/base",
            "_model_module_version": "1.5.0",
            "_view_count": null,
            "_view_module_version": "1.2.0",
            "_model_module": "@jupyter-widgets/controls"
          }
        },
        "1bbe9dfd0af14f15a85c8edf0bf08469": {
          "model_module": "@jupyter-widgets/base",
          "model_name": "LayoutModel",
          "state": {
            "_view_name": "LayoutView",
            "grid_template_rows": null,
            "right": null,
            "justify_content": null,
            "_view_module": "@jupyter-widgets/base",
            "overflow": null,
            "_model_module_version": "1.2.0",
            "_view_count": null,
            "flex_flow": null,
            "width": null,
            "min_width": null,
            "border": null,
            "align_items": null,
            "bottom": null,
            "_model_module": "@jupyter-widgets/base",
            "top": null,
            "grid_column": null,
            "overflow_y": null,
            "overflow_x": null,
            "grid_auto_flow": null,
            "grid_area": null,
            "grid_template_columns": null,
            "flex": null,
            "_model_name": "LayoutModel",
            "justify_items": null,
            "grid_row": null,
            "max_height": null,
            "align_content": null,
            "visibility": null,
            "align_self": null,
            "height": null,
            "min_height": null,
            "padding": null,
            "grid_auto_rows": null,
            "grid_gap": null,
            "max_width": null,
            "order": null,
            "_view_module_version": "1.2.0",
            "grid_template_areas": null,
            "object_position": null,
            "object_fit": null,
            "grid_auto_columns": null,
            "margin": null,
            "display": null,
            "left": null
          }
        },
        "07746284c7ac43f580aa9d89d0bc0908": {
          "model_module": "@jupyter-widgets/controls",
          "model_name": "HBoxModel",
          "state": {
            "_view_name": "HBoxView",
            "_dom_classes": [],
            "_model_name": "HBoxModel",
            "_view_module": "@jupyter-widgets/controls",
            "_model_module_version": "1.5.0",
            "_view_count": null,
            "_view_module_version": "1.5.0",
            "box_style": "",
            "layout": "IPY_MODEL_ef9ae6ff950b4e0cbf1c954a2d71b845",
            "_model_module": "@jupyter-widgets/controls",
            "children": [
              "IPY_MODEL_0944ec677e7c421481daa500b9cbf626",
              "IPY_MODEL_57ff5236e99a4939938eec73a3f5e440"
            ]
          }
        },
        "ef9ae6ff950b4e0cbf1c954a2d71b845": {
          "model_module": "@jupyter-widgets/base",
          "model_name": "LayoutModel",
          "state": {
            "_view_name": "LayoutView",
            "grid_template_rows": null,
            "right": null,
            "justify_content": null,
            "_view_module": "@jupyter-widgets/base",
            "overflow": null,
            "_model_module_version": "1.2.0",
            "_view_count": null,
            "flex_flow": null,
            "width": null,
            "min_width": null,
            "border": null,
            "align_items": null,
            "bottom": null,
            "_model_module": "@jupyter-widgets/base",
            "top": null,
            "grid_column": null,
            "overflow_y": null,
            "overflow_x": null,
            "grid_auto_flow": null,
            "grid_area": null,
            "grid_template_columns": null,
            "flex": null,
            "_model_name": "LayoutModel",
            "justify_items": null,
            "grid_row": null,
            "max_height": null,
            "align_content": null,
            "visibility": null,
            "align_self": null,
            "height": null,
            "min_height": null,
            "padding": null,
            "grid_auto_rows": null,
            "grid_gap": null,
            "max_width": null,
            "order": null,
            "_view_module_version": "1.2.0",
            "grid_template_areas": null,
            "object_position": null,
            "object_fit": null,
            "grid_auto_columns": null,
            "margin": null,
            "display": null,
            "left": null
          }
        },
        "0944ec677e7c421481daa500b9cbf626": {
          "model_module": "@jupyter-widgets/controls",
          "model_name": "FloatProgressModel",
          "state": {
            "_view_name": "ProgressView",
            "style": "IPY_MODEL_c69754b97f924c12b8d15ed49bfe1bd3",
            "_dom_classes": [],
            "description": "100%",
            "_model_name": "FloatProgressModel",
            "bar_style": "success",
            "max": 23014,
            "_view_module": "@jupyter-widgets/controls",
            "_model_module_version": "1.5.0",
            "value": 23014,
            "_view_count": null,
            "_view_module_version": "1.5.0",
            "orientation": "horizontal",
            "min": 0,
            "description_tooltip": null,
            "_model_module": "@jupyter-widgets/controls",
            "layout": "IPY_MODEL_69c805359b5d4c608196c565f50aaa96"
          }
        },
        "57ff5236e99a4939938eec73a3f5e440": {
          "model_module": "@jupyter-widgets/controls",
          "model_name": "HTMLModel",
          "state": {
            "_view_name": "HTMLView",
            "style": "IPY_MODEL_bebeb24a7f894534ae762a7c914d2b2a",
            "_dom_classes": [],
            "description": "",
            "_model_name": "HTMLModel",
            "placeholder": "​",
            "_view_module": "@jupyter-widgets/controls",
            "_model_module_version": "1.5.0",
            "value": " 23014/23014 [05:30&lt;00:00, 69.66it/s]",
            "_view_count": null,
            "_view_module_version": "1.5.0",
            "description_tooltip": null,
            "_model_module": "@jupyter-widgets/controls",
            "layout": "IPY_MODEL_be4237b829a64d61aa0700e85c6793bc"
          }
        },
        "c69754b97f924c12b8d15ed49bfe1bd3": {
          "model_module": "@jupyter-widgets/controls",
          "model_name": "ProgressStyleModel",
          "state": {
            "_view_name": "StyleView",
            "_model_name": "ProgressStyleModel",
            "description_width": "initial",
            "_view_module": "@jupyter-widgets/base",
            "_model_module_version": "1.5.0",
            "_view_count": null,
            "_view_module_version": "1.2.0",
            "bar_color": null,
            "_model_module": "@jupyter-widgets/controls"
          }
        },
        "69c805359b5d4c608196c565f50aaa96": {
          "model_module": "@jupyter-widgets/base",
          "model_name": "LayoutModel",
          "state": {
            "_view_name": "LayoutView",
            "grid_template_rows": null,
            "right": null,
            "justify_content": null,
            "_view_module": "@jupyter-widgets/base",
            "overflow": null,
            "_model_module_version": "1.2.0",
            "_view_count": null,
            "flex_flow": null,
            "width": null,
            "min_width": null,
            "border": null,
            "align_items": null,
            "bottom": null,
            "_model_module": "@jupyter-widgets/base",
            "top": null,
            "grid_column": null,
            "overflow_y": null,
            "overflow_x": null,
            "grid_auto_flow": null,
            "grid_area": null,
            "grid_template_columns": null,
            "flex": null,
            "_model_name": "LayoutModel",
            "justify_items": null,
            "grid_row": null,
            "max_height": null,
            "align_content": null,
            "visibility": null,
            "align_self": null,
            "height": null,
            "min_height": null,
            "padding": null,
            "grid_auto_rows": null,
            "grid_gap": null,
            "max_width": null,
            "order": null,
            "_view_module_version": "1.2.0",
            "grid_template_areas": null,
            "object_position": null,
            "object_fit": null,
            "grid_auto_columns": null,
            "margin": null,
            "display": null,
            "left": null
          }
        },
        "bebeb24a7f894534ae762a7c914d2b2a": {
          "model_module": "@jupyter-widgets/controls",
          "model_name": "DescriptionStyleModel",
          "state": {
            "_view_name": "StyleView",
            "_model_name": "DescriptionStyleModel",
            "description_width": "",
            "_view_module": "@jupyter-widgets/base",
            "_model_module_version": "1.5.0",
            "_view_count": null,
            "_view_module_version": "1.2.0",
            "_model_module": "@jupyter-widgets/controls"
          }
        },
        "be4237b829a64d61aa0700e85c6793bc": {
          "model_module": "@jupyter-widgets/base",
          "model_name": "LayoutModel",
          "state": {
            "_view_name": "LayoutView",
            "grid_template_rows": null,
            "right": null,
            "justify_content": null,
            "_view_module": "@jupyter-widgets/base",
            "overflow": null,
            "_model_module_version": "1.2.0",
            "_view_count": null,
            "flex_flow": null,
            "width": null,
            "min_width": null,
            "border": null,
            "align_items": null,
            "bottom": null,
            "_model_module": "@jupyter-widgets/base",
            "top": null,
            "grid_column": null,
            "overflow_y": null,
            "overflow_x": null,
            "grid_auto_flow": null,
            "grid_area": null,
            "grid_template_columns": null,
            "flex": null,
            "_model_name": "LayoutModel",
            "justify_items": null,
            "grid_row": null,
            "max_height": null,
            "align_content": null,
            "visibility": null,
            "align_self": null,
            "height": null,
            "min_height": null,
            "padding": null,
            "grid_auto_rows": null,
            "grid_gap": null,
            "max_width": null,
            "order": null,
            "_view_module_version": "1.2.0",
            "grid_template_areas": null,
            "object_position": null,
            "object_fit": null,
            "grid_auto_columns": null,
            "margin": null,
            "display": null,
            "left": null
          }
        },
        "c4c6ea50d0164aa799e6a5f0f3a6f63c": {
          "model_module": "@jupyter-widgets/controls",
          "model_name": "HBoxModel",
          "state": {
            "_view_name": "HBoxView",
            "_dom_classes": [],
            "_model_name": "HBoxModel",
            "_view_module": "@jupyter-widgets/controls",
            "_model_module_version": "1.5.0",
            "_view_count": null,
            "_view_module_version": "1.5.0",
            "box_style": "",
            "layout": "IPY_MODEL_046c90083dc648619c04a029eeee79f4",
            "_model_module": "@jupyter-widgets/controls",
            "children": [
              "IPY_MODEL_1cb40369811447aba869df69e4d70f63",
              "IPY_MODEL_e78a2e56453c4896870f809534514074"
            ]
          }
        },
        "046c90083dc648619c04a029eeee79f4": {
          "model_module": "@jupyter-widgets/base",
          "model_name": "LayoutModel",
          "state": {
            "_view_name": "LayoutView",
            "grid_template_rows": null,
            "right": null,
            "justify_content": null,
            "_view_module": "@jupyter-widgets/base",
            "overflow": null,
            "_model_module_version": "1.2.0",
            "_view_count": null,
            "flex_flow": null,
            "width": null,
            "min_width": null,
            "border": null,
            "align_items": null,
            "bottom": null,
            "_model_module": "@jupyter-widgets/base",
            "top": null,
            "grid_column": null,
            "overflow_y": null,
            "overflow_x": null,
            "grid_auto_flow": null,
            "grid_area": null,
            "grid_template_columns": null,
            "flex": null,
            "_model_name": "LayoutModel",
            "justify_items": null,
            "grid_row": null,
            "max_height": null,
            "align_content": null,
            "visibility": null,
            "align_self": null,
            "height": null,
            "min_height": null,
            "padding": null,
            "grid_auto_rows": null,
            "grid_gap": null,
            "max_width": null,
            "order": null,
            "_view_module_version": "1.2.0",
            "grid_template_areas": null,
            "object_position": null,
            "object_fit": null,
            "grid_auto_columns": null,
            "margin": null,
            "display": null,
            "left": null
          }
        },
        "1cb40369811447aba869df69e4d70f63": {
          "model_module": "@jupyter-widgets/controls",
          "model_name": "FloatProgressModel",
          "state": {
            "_view_name": "ProgressView",
            "style": "IPY_MODEL_311aef745cd04a8f86b3168382cc5d1d",
            "_dom_classes": [],
            "description": "100%",
            "_model_name": "FloatProgressModel",
            "bar_style": "success",
            "max": 115070,
            "_view_module": "@jupyter-widgets/controls",
            "_model_module_version": "1.5.0",
            "value": 115070,
            "_view_count": null,
            "_view_module_version": "1.5.0",
            "orientation": "horizontal",
            "min": 0,
            "description_tooltip": null,
            "_model_module": "@jupyter-widgets/controls",
            "layout": "IPY_MODEL_1a0b0c8cb3754de88f8960b59f84e5df"
          }
        },
        "e78a2e56453c4896870f809534514074": {
          "model_module": "@jupyter-widgets/controls",
          "model_name": "HTMLModel",
          "state": {
            "_view_name": "HTMLView",
            "style": "IPY_MODEL_2558b12eeb5342d7b6824653be7e15c5",
            "_dom_classes": [],
            "description": "",
            "_model_name": "HTMLModel",
            "placeholder": "​",
            "_view_module": "@jupyter-widgets/controls",
            "_model_module_version": "1.5.0",
            "value": " 115070/115070 [01:43&lt;00:00, 1110.37it/s]",
            "_view_count": null,
            "_view_module_version": "1.5.0",
            "description_tooltip": null,
            "_model_module": "@jupyter-widgets/controls",
            "layout": "IPY_MODEL_df008439488448d4a6b4d240eb97cf75"
          }
        },
        "311aef745cd04a8f86b3168382cc5d1d": {
          "model_module": "@jupyter-widgets/controls",
          "model_name": "ProgressStyleModel",
          "state": {
            "_view_name": "StyleView",
            "_model_name": "ProgressStyleModel",
            "description_width": "initial",
            "_view_module": "@jupyter-widgets/base",
            "_model_module_version": "1.5.0",
            "_view_count": null,
            "_view_module_version": "1.2.0",
            "bar_color": null,
            "_model_module": "@jupyter-widgets/controls"
          }
        },
        "1a0b0c8cb3754de88f8960b59f84e5df": {
          "model_module": "@jupyter-widgets/base",
          "model_name": "LayoutModel",
          "state": {
            "_view_name": "LayoutView",
            "grid_template_rows": null,
            "right": null,
            "justify_content": null,
            "_view_module": "@jupyter-widgets/base",
            "overflow": null,
            "_model_module_version": "1.2.0",
            "_view_count": null,
            "flex_flow": null,
            "width": null,
            "min_width": null,
            "border": null,
            "align_items": null,
            "bottom": null,
            "_model_module": "@jupyter-widgets/base",
            "top": null,
            "grid_column": null,
            "overflow_y": null,
            "overflow_x": null,
            "grid_auto_flow": null,
            "grid_area": null,
            "grid_template_columns": null,
            "flex": null,
            "_model_name": "LayoutModel",
            "justify_items": null,
            "grid_row": null,
            "max_height": null,
            "align_content": null,
            "visibility": null,
            "align_self": null,
            "height": null,
            "min_height": null,
            "padding": null,
            "grid_auto_rows": null,
            "grid_gap": null,
            "max_width": null,
            "order": null,
            "_view_module_version": "1.2.0",
            "grid_template_areas": null,
            "object_position": null,
            "object_fit": null,
            "grid_auto_columns": null,
            "margin": null,
            "display": null,
            "left": null
          }
        },
        "2558b12eeb5342d7b6824653be7e15c5": {
          "model_module": "@jupyter-widgets/controls",
          "model_name": "DescriptionStyleModel",
          "state": {
            "_view_name": "StyleView",
            "_model_name": "DescriptionStyleModel",
            "description_width": "",
            "_view_module": "@jupyter-widgets/base",
            "_model_module_version": "1.5.0",
            "_view_count": null,
            "_view_module_version": "1.2.0",
            "_model_module": "@jupyter-widgets/controls"
          }
        },
        "df008439488448d4a6b4d240eb97cf75": {
          "model_module": "@jupyter-widgets/base",
          "model_name": "LayoutModel",
          "state": {
            "_view_name": "LayoutView",
            "grid_template_rows": null,
            "right": null,
            "justify_content": null,
            "_view_module": "@jupyter-widgets/base",
            "overflow": null,
            "_model_module_version": "1.2.0",
            "_view_count": null,
            "flex_flow": null,
            "width": null,
            "min_width": null,
            "border": null,
            "align_items": null,
            "bottom": null,
            "_model_module": "@jupyter-widgets/base",
            "top": null,
            "grid_column": null,
            "overflow_y": null,
            "overflow_x": null,
            "grid_auto_flow": null,
            "grid_area": null,
            "grid_template_columns": null,
            "flex": null,
            "_model_name": "LayoutModel",
            "justify_items": null,
            "grid_row": null,
            "max_height": null,
            "align_content": null,
            "visibility": null,
            "align_self": null,
            "height": null,
            "min_height": null,
            "padding": null,
            "grid_auto_rows": null,
            "grid_gap": null,
            "max_width": null,
            "order": null,
            "_view_module_version": "1.2.0",
            "grid_template_areas": null,
            "object_position": null,
            "object_fit": null,
            "grid_auto_columns": null,
            "margin": null,
            "display": null,
            "left": null
          }
        },
        "17c41b37785942d8be220577117f09c2": {
          "model_module": "@jupyter-widgets/controls",
          "model_name": "HBoxModel",
          "state": {
            "_view_name": "HBoxView",
            "_dom_classes": [],
            "_model_name": "HBoxModel",
            "_view_module": "@jupyter-widgets/controls",
            "_model_module_version": "1.5.0",
            "_view_count": null,
            "_view_module_version": "1.5.0",
            "box_style": "",
            "layout": "IPY_MODEL_68f5f7499ade4536b813836855d1c297",
            "_model_module": "@jupyter-widgets/controls",
            "children": [
              "IPY_MODEL_7a5d128d29a0445fbf6f1b3cba4004c0",
              "IPY_MODEL_4fa1a9f578cb400685c58a947a8766d1"
            ]
          }
        },
        "68f5f7499ade4536b813836855d1c297": {
          "model_module": "@jupyter-widgets/base",
          "model_name": "LayoutModel",
          "state": {
            "_view_name": "LayoutView",
            "grid_template_rows": null,
            "right": null,
            "justify_content": null,
            "_view_module": "@jupyter-widgets/base",
            "overflow": null,
            "_model_module_version": "1.2.0",
            "_view_count": null,
            "flex_flow": null,
            "width": null,
            "min_width": null,
            "border": null,
            "align_items": null,
            "bottom": null,
            "_model_module": "@jupyter-widgets/base",
            "top": null,
            "grid_column": null,
            "overflow_y": null,
            "overflow_x": null,
            "grid_auto_flow": null,
            "grid_area": null,
            "grid_template_columns": null,
            "flex": null,
            "_model_name": "LayoutModel",
            "justify_items": null,
            "grid_row": null,
            "max_height": null,
            "align_content": null,
            "visibility": null,
            "align_self": null,
            "height": null,
            "min_height": null,
            "padding": null,
            "grid_auto_rows": null,
            "grid_gap": null,
            "max_width": null,
            "order": null,
            "_view_module_version": "1.2.0",
            "grid_template_areas": null,
            "object_position": null,
            "object_fit": null,
            "grid_auto_columns": null,
            "margin": null,
            "display": null,
            "left": null
          }
        },
        "7a5d128d29a0445fbf6f1b3cba4004c0": {
          "model_module": "@jupyter-widgets/controls",
          "model_name": "FloatProgressModel",
          "state": {
            "_view_name": "ProgressView",
            "style": "IPY_MODEL_a77f92d16f8e4b6fa406b42ea8302dff",
            "_dom_classes": [],
            "description": "100%",
            "_model_name": "FloatProgressModel",
            "bar_style": "success",
            "max": 23014,
            "_view_module": "@jupyter-widgets/controls",
            "_model_module_version": "1.5.0",
            "value": 23014,
            "_view_count": null,
            "_view_module_version": "1.5.0",
            "orientation": "horizontal",
            "min": 0,
            "description_tooltip": null,
            "_model_module": "@jupyter-widgets/controls",
            "layout": "IPY_MODEL_32339485c0b14524b4f69746feb1295a"
          }
        },
        "4fa1a9f578cb400685c58a947a8766d1": {
          "model_module": "@jupyter-widgets/controls",
          "model_name": "HTMLModel",
          "state": {
            "_view_name": "HTMLView",
            "style": "IPY_MODEL_969d93ec9c9142fc98703871c50e5019",
            "_dom_classes": [],
            "description": "",
            "_model_name": "HTMLModel",
            "placeholder": "​",
            "_view_module": "@jupyter-widgets/controls",
            "_model_module_version": "1.5.0",
            "value": " 23014/23014 [00:07&lt;00:00, 2969.69it/s]",
            "_view_count": null,
            "_view_module_version": "1.5.0",
            "description_tooltip": null,
            "_model_module": "@jupyter-widgets/controls",
            "layout": "IPY_MODEL_808ff1258d4d481391b4e3f7458ef299"
          }
        },
        "a77f92d16f8e4b6fa406b42ea8302dff": {
          "model_module": "@jupyter-widgets/controls",
          "model_name": "ProgressStyleModel",
          "state": {
            "_view_name": "StyleView",
            "_model_name": "ProgressStyleModel",
            "description_width": "initial",
            "_view_module": "@jupyter-widgets/base",
            "_model_module_version": "1.5.0",
            "_view_count": null,
            "_view_module_version": "1.2.0",
            "bar_color": null,
            "_model_module": "@jupyter-widgets/controls"
          }
        },
        "32339485c0b14524b4f69746feb1295a": {
          "model_module": "@jupyter-widgets/base",
          "model_name": "LayoutModel",
          "state": {
            "_view_name": "LayoutView",
            "grid_template_rows": null,
            "right": null,
            "justify_content": null,
            "_view_module": "@jupyter-widgets/base",
            "overflow": null,
            "_model_module_version": "1.2.0",
            "_view_count": null,
            "flex_flow": null,
            "width": null,
            "min_width": null,
            "border": null,
            "align_items": null,
            "bottom": null,
            "_model_module": "@jupyter-widgets/base",
            "top": null,
            "grid_column": null,
            "overflow_y": null,
            "overflow_x": null,
            "grid_auto_flow": null,
            "grid_area": null,
            "grid_template_columns": null,
            "flex": null,
            "_model_name": "LayoutModel",
            "justify_items": null,
            "grid_row": null,
            "max_height": null,
            "align_content": null,
            "visibility": null,
            "align_self": null,
            "height": null,
            "min_height": null,
            "padding": null,
            "grid_auto_rows": null,
            "grid_gap": null,
            "max_width": null,
            "order": null,
            "_view_module_version": "1.2.0",
            "grid_template_areas": null,
            "object_position": null,
            "object_fit": null,
            "grid_auto_columns": null,
            "margin": null,
            "display": null,
            "left": null
          }
        },
        "969d93ec9c9142fc98703871c50e5019": {
          "model_module": "@jupyter-widgets/controls",
          "model_name": "DescriptionStyleModel",
          "state": {
            "_view_name": "StyleView",
            "_model_name": "DescriptionStyleModel",
            "description_width": "",
            "_view_module": "@jupyter-widgets/base",
            "_model_module_version": "1.5.0",
            "_view_count": null,
            "_view_module_version": "1.2.0",
            "_model_module": "@jupyter-widgets/controls"
          }
        },
        "808ff1258d4d481391b4e3f7458ef299": {
          "model_module": "@jupyter-widgets/base",
          "model_name": "LayoutModel",
          "state": {
            "_view_name": "LayoutView",
            "grid_template_rows": null,
            "right": null,
            "justify_content": null,
            "_view_module": "@jupyter-widgets/base",
            "overflow": null,
            "_model_module_version": "1.2.0",
            "_view_count": null,
            "flex_flow": null,
            "width": null,
            "min_width": null,
            "border": null,
            "align_items": null,
            "bottom": null,
            "_model_module": "@jupyter-widgets/base",
            "top": null,
            "grid_column": null,
            "overflow_y": null,
            "overflow_x": null,
            "grid_auto_flow": null,
            "grid_area": null,
            "grid_template_columns": null,
            "flex": null,
            "_model_name": "LayoutModel",
            "justify_items": null,
            "grid_row": null,
            "max_height": null,
            "align_content": null,
            "visibility": null,
            "align_self": null,
            "height": null,
            "min_height": null,
            "padding": null,
            "grid_auto_rows": null,
            "grid_gap": null,
            "max_width": null,
            "order": null,
            "_view_module_version": "1.2.0",
            "grid_template_areas": null,
            "object_position": null,
            "object_fit": null,
            "grid_auto_columns": null,
            "margin": null,
            "display": null,
            "left": null
          }
        }
      }
    }
  },
  "cells": [
    {
      "cell_type": "markdown",
      "metadata": {
        "id": "view-in-github",
        "colab_type": "text"
      },
      "source": [
        "<a href=\"https://colab.research.google.com/github/hwang-sudang/kkoApplemusic/blob/sparse_matrix/0723_Autoencoder.ipynb\" target=\"_parent\"><img src=\"https://colab.research.google.com/assets/colab-badge.svg\" alt=\"Open In Colab\"/></a>"
      ]
    },
    {
      "cell_type": "markdown",
      "metadata": {
        "id": "22eTI4TDQ4f5",
        "colab_type": "text"
      },
      "source": [
        "## Data Load"
      ]
    },
    {
      "cell_type": "code",
      "metadata": {
        "id": "t7U0uSF8Qjfl",
        "colab_type": "code",
        "colab": {
          "base_uri": "https://localhost:8080/",
          "height": 54
        },
        "outputId": "626c2d37-bb41-4202-b191-4b6878b28b10"
      },
      "source": [
        "from google.colab import drive \n",
        "drive.mount('/content/gdrive/')"
      ],
      "execution_count": 2,
      "outputs": [
        {
          "output_type": "stream",
          "text": [
            "Drive already mounted at /content/gdrive/; to attempt to forcibly remount, call drive.mount(\"/content/gdrive/\", force_remount=True).\n"
          ],
          "name": "stdout"
        }
      ]
    },
    {
      "cell_type": "code",
      "metadata": {
        "id": "_MuctmVFQv92",
        "colab_type": "code",
        "colab": {
          "base_uri": "https://localhost:8080/",
          "height": 306
        },
        "outputId": "44bdda6b-408f-43f0-e798-84f69a18dc91"
      },
      "source": [
        "import os\n",
        "os.chdir(\"/content/gdrive/My Drive/melon-playlist-continuation-master\")\n",
        "print(os.getcwd())\n",
        "!ls"
      ],
      "execution_count": 3,
      "outputs": [
        {
          "output_type": "stream",
          "text": [
            "/content/gdrive/My Drive/melon-playlist-continuation-master\n",
            " 0705Tags.ipynb\t\t\t   Noising_func.ipynb\n",
            "'0716 Khaiii main keyword.ipynb'   NOTICE.md\n",
            "'0719 tag_sparse matrix.ipynb'\t   PlaylistEmbedding.ipynb\n",
            "'0720 tag_sparse_matrix.ipynb'\t   __pycache__\n",
            " Apple_Music_Model_BPR.ipynb\t   README.md\n",
            " arena_util.py\t\t\t   requirements.txt\n",
            " build\t\t\t\t   results.json\n",
            " evaluate.py\t\t\t   song_meta.json\n",
            " genre_gn_all.json\t\t  'sparse matrix.ipynb'\n",
            " genre_most_popular.py\t\t   split_data.ipynb\n",
            " khaiii\t\t\t\t   split_data.py\n",
            " LICENSE\t\t\t   test.json\n",
            " LMF01_150_songs.json\t\t   testPickleFile.pickle\n",
            " LMF01_50_songs.json\t\t   train.json\n",
            " LMF01_70_songs.json\t\t   uniq_tags.gsheet\n",
            " most_popular.py\t\t   val.json\n"
          ],
          "name": "stdout"
        }
      ]
    },
    {
      "cell_type": "code",
      "metadata": {
        "id": "IRr0pO4TiX7H",
        "colab_type": "code",
        "colab": {
          "base_uri": "https://localhost:8080/",
          "height": 258
        },
        "outputId": "22e1b236-165d-44d2-933d-1ced6ca042e6"
      },
      "source": [
        "!pip install implicit==0.4.0"
      ],
      "execution_count": 4,
      "outputs": [
        {
          "output_type": "stream",
          "text": [
            "Collecting implicit==0.4.0\n",
            "\u001b[?25l  Downloading https://files.pythonhosted.org/packages/c4/4d/47e8d8c9966a8aa5aa66de5bdd1eb608dee9b7b9305561f179c6249510e3/implicit-0.4.0.tar.gz (1.1MB)\n",
            "\r\u001b[K     |▎                               | 10kB 22.0MB/s eta 0:00:01\r\u001b[K     |▋                               | 20kB 29.0MB/s eta 0:00:01\r\u001b[K     |▉                               | 30kB 31.4MB/s eta 0:00:01\r\u001b[K     |█▏                              | 40kB 16.2MB/s eta 0:00:01\r\u001b[K     |█▌                              | 51kB 12.3MB/s eta 0:00:01\r\u001b[K     |█▊                              | 61kB 11.2MB/s eta 0:00:01\r\u001b[K     |██                              | 71kB 11.6MB/s eta 0:00:01\r\u001b[K     |██▍                             | 81kB 10.7MB/s eta 0:00:01\r\u001b[K     |██▋                             | 92kB 10.8MB/s eta 0:00:01\r\u001b[K     |███                             | 102kB 10.9MB/s eta 0:00:01\r\u001b[K     |███▎                            | 112kB 10.9MB/s eta 0:00:01\r\u001b[K     |███▌                            | 122kB 10.9MB/s eta 0:00:01\r\u001b[K     |███▉                            | 133kB 10.9MB/s eta 0:00:01\r\u001b[K     |████▏                           | 143kB 10.9MB/s eta 0:00:01\r\u001b[K     |████▍                           | 153kB 10.9MB/s eta 0:00:01\r\u001b[K     |████▊                           | 163kB 10.9MB/s eta 0:00:01\r\u001b[K     |█████                           | 174kB 10.9MB/s eta 0:00:01\r\u001b[K     |█████▎                          | 184kB 10.9MB/s eta 0:00:01\r\u001b[K     |█████▋                          | 194kB 10.9MB/s eta 0:00:01\r\u001b[K     |██████                          | 204kB 10.9MB/s eta 0:00:01\r\u001b[K     |██████▏                         | 215kB 10.9MB/s eta 0:00:01\r\u001b[K     |██████▌                         | 225kB 10.9MB/s eta 0:00:01\r\u001b[K     |██████▉                         | 235kB 10.9MB/s eta 0:00:01\r\u001b[K     |███████                         | 245kB 10.9MB/s eta 0:00:01\r\u001b[K     |███████▍                        | 256kB 10.9MB/s eta 0:00:01\r\u001b[K     |███████▊                        | 266kB 10.9MB/s eta 0:00:01\r\u001b[K     |████████                        | 276kB 10.9MB/s eta 0:00:01\r\u001b[K     |████████▎                       | 286kB 10.9MB/s eta 0:00:01\r\u001b[K     |████████▋                       | 296kB 10.9MB/s eta 0:00:01\r\u001b[K     |████████▉                       | 307kB 10.9MB/s eta 0:00:01\r\u001b[K     |█████████▏                      | 317kB 10.9MB/s eta 0:00:01\r\u001b[K     |█████████▌                      | 327kB 10.9MB/s eta 0:00:01\r\u001b[K     |█████████▊                      | 337kB 10.9MB/s eta 0:00:01\r\u001b[K     |██████████                      | 348kB 10.9MB/s eta 0:00:01\r\u001b[K     |██████████▍                     | 358kB 10.9MB/s eta 0:00:01\r\u001b[K     |██████████▋                     | 368kB 10.9MB/s eta 0:00:01\r\u001b[K     |███████████                     | 378kB 10.9MB/s eta 0:00:01\r\u001b[K     |███████████▎                    | 389kB 10.9MB/s eta 0:00:01\r\u001b[K     |███████████▌                    | 399kB 10.9MB/s eta 0:00:01\r\u001b[K     |███████████▉                    | 409kB 10.9MB/s eta 0:00:01\r\u001b[K     |████████████▏                   | 419kB 10.9MB/s eta 0:00:01\r\u001b[K     |████████████▍                   | 430kB 10.9MB/s eta 0:00:01\r\u001b[K     |████████████▊                   | 440kB 10.9MB/s eta 0:00:01\r\u001b[K     |█████████████                   | 450kB 10.9MB/s eta 0:00:01\r\u001b[K     |█████████████▎                  | 460kB 10.9MB/s eta 0:00:01\r\u001b[K     |█████████████▋                  | 471kB 10.9MB/s eta 0:00:01\r\u001b[K     |█████████████▉                  | 481kB 10.9MB/s eta 0:00:01\r\u001b[K     |██████████████▏                 | 491kB 10.9MB/s eta 0:00:01\r\u001b[K     |██████████████▌                 | 501kB 10.9MB/s eta 0:00:01\r\u001b[K     |██████████████▊                 | 512kB 10.9MB/s eta 0:00:01\r\u001b[K     |███████████████                 | 522kB 10.9MB/s eta 0:00:01\r\u001b[K     |███████████████▍                | 532kB 10.9MB/s eta 0:00:01\r\u001b[K     |███████████████▋                | 542kB 10.9MB/s eta 0:00:01\r\u001b[K     |████████████████                | 552kB 10.9MB/s eta 0:00:01\r\u001b[K     |████████████████▎               | 563kB 10.9MB/s eta 0:00:01\r\u001b[K     |████████████████▌               | 573kB 10.9MB/s eta 0:00:01\r\u001b[K     |████████████████▉               | 583kB 10.9MB/s eta 0:00:01\r\u001b[K     |█████████████████▏              | 593kB 10.9MB/s eta 0:00:01\r\u001b[K     |█████████████████▍              | 604kB 10.9MB/s eta 0:00:01\r\u001b[K     |█████████████████▊              | 614kB 10.9MB/s eta 0:00:01\r\u001b[K     |██████████████████              | 624kB 10.9MB/s eta 0:00:01\r\u001b[K     |██████████████████▎             | 634kB 10.9MB/s eta 0:00:01\r\u001b[K     |██████████████████▋             | 645kB 10.9MB/s eta 0:00:01\r\u001b[K     |███████████████████             | 655kB 10.9MB/s eta 0:00:01\r\u001b[K     |███████████████████▏            | 665kB 10.9MB/s eta 0:00:01\r\u001b[K     |███████████████████▌            | 675kB 10.9MB/s eta 0:00:01\r\u001b[K     |███████████████████▉            | 686kB 10.9MB/s eta 0:00:01\r\u001b[K     |████████████████████            | 696kB 10.9MB/s eta 0:00:01\r\u001b[K     |████████████████████▍           | 706kB 10.9MB/s eta 0:00:01\r\u001b[K     |████████████████████▊           | 716kB 10.9MB/s eta 0:00:01\r\u001b[K     |█████████████████████           | 727kB 10.9MB/s eta 0:00:01\r\u001b[K     |█████████████████████▎          | 737kB 10.9MB/s eta 0:00:01\r\u001b[K     |█████████████████████▋          | 747kB 10.9MB/s eta 0:00:01\r\u001b[K     |█████████████████████▉          | 757kB 10.9MB/s eta 0:00:01\r\u001b[K     |██████████████████████▏         | 768kB 10.9MB/s eta 0:00:01\r\u001b[K     |██████████████████████▌         | 778kB 10.9MB/s eta 0:00:01\r\u001b[K     |██████████████████████▊         | 788kB 10.9MB/s eta 0:00:01\r\u001b[K     |███████████████████████         | 798kB 10.9MB/s eta 0:00:01\r\u001b[K     |███████████████████████▍        | 808kB 10.9MB/s eta 0:00:01\r\u001b[K     |███████████████████████▋        | 819kB 10.9MB/s eta 0:00:01\r\u001b[K     |████████████████████████        | 829kB 10.9MB/s eta 0:00:01\r\u001b[K     |████████████████████████▎       | 839kB 10.9MB/s eta 0:00:01\r\u001b[K     |████████████████████████▌       | 849kB 10.9MB/s eta 0:00:01\r\u001b[K     |████████████████████████▉       | 860kB 10.9MB/s eta 0:00:01\r\u001b[K     |█████████████████████████▏      | 870kB 10.9MB/s eta 0:00:01\r\u001b[K     |█████████████████████████▍      | 880kB 10.9MB/s eta 0:00:01\r\u001b[K     |█████████████████████████▊      | 890kB 10.9MB/s eta 0:00:01\r\u001b[K     |██████████████████████████      | 901kB 10.9MB/s eta 0:00:01\r\u001b[K     |██████████████████████████▎     | 911kB 10.9MB/s eta 0:00:01\r\u001b[K     |██████████████████████████▋     | 921kB 10.9MB/s eta 0:00:01\r\u001b[K     |██████████████████████████▉     | 931kB 10.9MB/s eta 0:00:01\r\u001b[K     |███████████████████████████▏    | 942kB 10.9MB/s eta 0:00:01\r\u001b[K     |███████████████████████████▌    | 952kB 10.9MB/s eta 0:00:01\r\u001b[K     |███████████████████████████▊    | 962kB 10.9MB/s eta 0:00:01\r\u001b[K     |████████████████████████████    | 972kB 10.9MB/s eta 0:00:01\r\u001b[K     |████████████████████████████▍   | 983kB 10.9MB/s eta 0:00:01\r\u001b[K     |████████████████████████████▋   | 993kB 10.9MB/s eta 0:00:01\r\u001b[K     |█████████████████████████████   | 1.0MB 10.9MB/s eta 0:00:01\r\u001b[K     |█████████████████████████████▎  | 1.0MB 10.9MB/s eta 0:00:01\r\u001b[K     |█████████████████████████████▌  | 1.0MB 10.9MB/s eta 0:00:01\r\u001b[K     |█████████████████████████████▉  | 1.0MB 10.9MB/s eta 0:00:01\r\u001b[K     |██████████████████████████████▏ | 1.0MB 10.9MB/s eta 0:00:01\r\u001b[K     |██████████████████████████████▍ | 1.1MB 10.9MB/s eta 0:00:01\r\u001b[K     |██████████████████████████████▊ | 1.1MB 10.9MB/s eta 0:00:01\r\u001b[K     |███████████████████████████████ | 1.1MB 10.9MB/s eta 0:00:01\r\u001b[K     |███████████████████████████████▎| 1.1MB 10.9MB/s eta 0:00:01\r\u001b[K     |███████████████████████████████▋| 1.1MB 10.9MB/s eta 0:00:01\r\u001b[K     |████████████████████████████████| 1.1MB 10.9MB/s eta 0:00:01\r\u001b[K     |████████████████████████████████| 1.1MB 10.9MB/s \n",
            "\u001b[?25hRequirement already satisfied: numpy in /usr/local/lib/python3.6/dist-packages (from implicit==0.4.0) (1.18.5)\n",
            "Requirement already satisfied: scipy>=0.16 in /usr/local/lib/python3.6/dist-packages (from implicit==0.4.0) (1.4.1)\n",
            "Requirement already satisfied: tqdm>=4.27 in /usr/local/lib/python3.6/dist-packages (from implicit==0.4.0) (4.41.1)\n",
            "Building wheels for collected packages: implicit\n",
            "  Building wheel for implicit (setup.py) ... \u001b[?25l\u001b[?25hdone\n",
            "  Created wheel for implicit: filename=implicit-0.4.0-cp36-cp36m-linux_x86_64.whl size=3390293 sha256=bf7e54fd088cefa5e00f395d9f6aee3c81a8975a26ab92009efe13df48837668\n",
            "  Stored in directory: /root/.cache/pip/wheels/fd/d1/66/84e83191d9f626c521271023e4ef83e634e3b8c154f2c4b2da\n",
            "Successfully built implicit\n",
            "Installing collected packages: implicit\n",
            "Successfully installed implicit-0.4.0\n"
          ],
          "name": "stdout"
        }
      ]
    },
    {
      "cell_type": "code",
      "metadata": {
        "id": "OV0hTvTtRXhE",
        "colab_type": "code",
        "colab": {}
      },
      "source": [
        "from tqdm.auto import tqdm\n",
        "import numpy as np\n",
        "import pandas as pd\n",
        "import random\n",
        "\n",
        "from scipy.sparse import csr_matrix, vstack"
      ],
      "execution_count": 5,
      "outputs": []
    },
    {
      "cell_type": "code",
      "metadata": {
        "id": "HXMYh7yqQyUJ",
        "colab_type": "code",
        "colab": {}
      },
      "source": [
        "tr = pd.read_json(\"train.json\")\n",
        "te = pd.read_json(\"val.json\")\n",
        "\n",
        "tr_songs = tr.songs.tolist()\n",
        "te_songs = te.songs.tolist()\n",
        "tr_tags = tr.tags.tolist()\n",
        "te_tags = te.tags.tolist()\n",
        "te_ids = te.id.tolist()"
      ],
      "execution_count": 6,
      "outputs": []
    },
    {
      "cell_type": "code",
      "metadata": {
        "id": "QfFj05HeQ3jk",
        "colab_type": "code",
        "colab": {}
      },
      "source": [
        "import tensorflow as tf\n",
        "import sys\n",
        "config = tf.compat.v1.ConfigProto()\n",
        "config.gpu_options.allow_growth = True\n",
        "# TF를 백엔드로 사용하는 케라스 환경에서\n",
        "# 필요에 따라 탄력적으로 GPU 메모리를 사용하도록 설정\n",
        "\n",
        "session = tf.compat.v1.Session(config=config)\n",
        "\n",
        "from keras import optimizers\n",
        "import glob\n",
        "np.set_printoptions(threshold=np.inf) #...없이 출력하기\n",
        "import matplotlib.pyplot as plt\n",
        "from keras.preprocessing.image import load_img, array_to_img, img_to_array, ImageDataGenerator\n",
        "from keras.models import Sequential, Model\n",
        "from keras.layers import Dense, Conv2D, MaxPooling2D, UpSampling2D, Flatten, Input, BatchNormalization\n",
        "np.random.seed(111)"
      ],
      "execution_count": 7,
      "outputs": []
    },
    {
      "cell_type": "markdown",
      "metadata": {
        "id": "7zru-yY9Q8_N",
        "colab_type": "text"
      },
      "source": [
        "# Preprocessing"
      ]
    },
    {
      "cell_type": "markdown",
      "metadata": {
        "id": "4tJm64jNRGp1",
        "colab_type": "text"
      },
      "source": [
        "## Using sparse matrix\n",
        "### Songs"
      ]
    },
    {
      "cell_type": "code",
      "metadata": {
        "id": "lHZW807TjgkH",
        "colab_type": "code",
        "colab": {}
      },
      "source": [
        "def unique_item(array1, array2): # array1에 있는 원소들 중 array2에도 있는 것들을 제거하는 함수\n",
        "    array1 = list(array1)\n",
        "    for x in array1:\n",
        "        if x in array2:\n",
        "            array1.remove(x)\n",
        "    return array1"
      ],
      "execution_count": 8,
      "outputs": []
    },
    {
      "cell_type": "code",
      "metadata": {
        "id": "vJAmq0LbRUBM",
        "colab_type": "code",
        "colab": {}
      },
      "source": [
        "tr = []\n",
        "iid_to_idx = {}\n",
        "tag_to_idx = {} \n",
        "idx = 0\n",
        "\n",
        "for i, l in enumerate(tr_songs):\n",
        "    view = l\n",
        "    for item_id in view:\n",
        "        if item_id not in iid_to_idx:\n",
        "            iid_to_idx[item_id] = idx\n",
        "            idx += 1\n",
        "    view = [iid_to_idx[x] for x in view]\n",
        "    tr.append(view)\n",
        "\n",
        "n_items = len(iid_to_idx)\n",
        "\n",
        "idx_to_iid = {x:y for(y,x) in iid_to_idx.items()}\n",
        "\n",
        "te = []\n",
        "\n",
        "idx = 0\n",
        "for i, l in enumerate(te_songs):\n",
        "    view = l\n",
        "    ret = [] \n",
        "    for item_id in view:\n",
        "        if item_id not in iid_to_idx:\n",
        "            continue\n",
        "        ret.append(iid_to_idx[item_id])\n",
        "    te.append(ret)"
      ],
      "execution_count": 9,
      "outputs": []
    },
    {
      "cell_type": "code",
      "metadata": {
        "id": "hU6b9bVVRUDv",
        "colab_type": "code",
        "colab": {
          "base_uri": "https://localhost:8080/",
          "height": 115,
          "referenced_widgets": [
            "e2202b995ec943a2904bb66ee953f56a",
            "b46f734029f846889190bf9f9bd96ddb",
            "e3a89dfc20c3463cb30e806dc5c849bc",
            "4f6e531931ac4fdd99ccda57bed6983c",
            "8c811c56b63f431aab73459d0cc9ecf8",
            "728e038d9bd44573ac990adb5271c3a0",
            "36627ad04b144cfe91368345758e8dd2",
            "1bbe9dfd0af14f15a85c8edf0bf08469",
            "07746284c7ac43f580aa9d89d0bc0908",
            "ef9ae6ff950b4e0cbf1c954a2d71b845",
            "0944ec677e7c421481daa500b9cbf626",
            "57ff5236e99a4939938eec73a3f5e440",
            "c69754b97f924c12b8d15ed49bfe1bd3",
            "69c805359b5d4c608196c565f50aaa96",
            "bebeb24a7f894534ae762a7c914d2b2a",
            "be4237b829a64d61aa0700e85c6793bc"
          ]
        },
        "outputId": "54b21283-9422-43d6-dbd7-6a8d7b278791"
      },
      "source": [
        "rows = np.repeat(0,len(tr[0]))\n",
        "cols = tr[0]\n",
        "vals = np.repeat(1,len(tr[0]))\n",
        "tr_csr = csr_matrix((vals, (rows, cols)),[1, n_items]) # train 데이터의 첫 row를 csr_matrix화\n",
        "\n",
        "for i in tqdm(range(1, len(tr))): # train 데이터를 stack을 쌓는 방식으로 csr_matrix화\n",
        "    rows = np.repeat(0,len(tr[i]))\n",
        "    cols = tr[i]\n",
        "    vals = np.repeat(1,len(tr[i]))\n",
        "    new_csr = csr_matrix((vals, (rows, cols)),[1, n_items])\n",
        "    tr_csr = vstack([tr_csr, new_csr])\n",
        "\n",
        "\n",
        "rows = np.repeat(0,len(te[0]))\n",
        "cols = te[0]\n",
        "vals = np.repeat(1,len(te[0]))\n",
        "te_csr = csr_matrix((vals, (rows, cols)),[1, n_items]) # test(validation) 데이터의 첫 row를 csr_matrix화\n",
        "\n",
        "for i in tqdm(range(1, len(te))): # test(validation) 데이터를 stack을 쌓는 방식으로 csr_matrix화\n",
        "    rows = np.repeat(0,len(te[i]))\n",
        "    cols = te[i]\n",
        "    vals = np.repeat(1,len(te[i]))\n",
        "    new_csr = csr_matrix((vals, (rows, cols)),[1, n_items])\n",
        "    te_csr = vstack([te_csr, new_csr]) \n",
        "\n",
        "song_te_csr= te_csr\n",
        "song_tr_csr= tr_csr\n",
        "\n"
      ],
      "execution_count": 10,
      "outputs": [
        {
          "output_type": "display_data",
          "data": {
            "application/vnd.jupyter.widget-view+json": {
              "model_id": "e2202b995ec943a2904bb66ee953f56a",
              "version_minor": 0,
              "version_major": 2
            },
            "text/plain": [
              "HBox(children=(FloatProgress(value=0.0, max=115070.0), HTML(value='')))"
            ]
          },
          "metadata": {
            "tags": []
          }
        },
        {
          "output_type": "stream",
          "text": [
            "\n"
          ],
          "name": "stdout"
        },
        {
          "output_type": "display_data",
          "data": {
            "application/vnd.jupyter.widget-view+json": {
              "model_id": "07746284c7ac43f580aa9d89d0bc0908",
              "version_minor": 0,
              "version_major": 2
            },
            "text/plain": [
              "HBox(children=(FloatProgress(value=0.0, max=23014.0), HTML(value='')))"
            ]
          },
          "metadata": {
            "tags": []
          }
        },
        {
          "output_type": "stream",
          "text": [
            "\n"
          ],
          "name": "stdout"
        }
      ]
    },
    {
      "cell_type": "code",
      "metadata": {
        "id": "LFLpMvaWwtqN",
        "colab_type": "code",
        "colab": {
          "base_uri": "https://localhost:8080/",
          "height": 34
        },
        "outputId": "fb398627-5c61-4bef-bb8f-66571b124da4"
      },
      "source": [
        "print(\"song test csr size:\", song_te_csr.shape, \"song train csr size:\", song_tr_csr.shape)\n"
      ],
      "execution_count": 11,
      "outputs": [
        {
          "output_type": "stream",
          "text": [
            "song test csr size: (23015, 615142) song train csr size: (115071, 615142)\n"
          ],
          "name": "stdout"
        }
      ]
    },
    {
      "cell_type": "markdown",
      "metadata": {
        "id": "GBRTZXJOjZa4",
        "colab_type": "text"
      },
      "source": [
        "### tags matrix"
      ]
    },
    {
      "cell_type": "code",
      "metadata": {
        "id": "Tu6BDT_HRT-1",
        "colab_type": "code",
        "colab": {}
      },
      "source": [
        "tr = []\n",
        "iid_to_idx = {}\n",
        "tag_to_idx = {} \n",
        "idx = 0\n",
        "\n",
        "for i, l in enumerate(tr_tags):\n",
        "    view = l\n",
        "    for item_id in view:\n",
        "        if item_id not in iid_to_idx:\n",
        "            iid_to_idx[item_id] = idx\n",
        "            idx += 1\n",
        "    view = [iid_to_idx[x] for x in view]\n",
        "    tr.append(view)\n",
        "\n",
        "n_items = len(iid_to_idx)\n",
        "\n",
        "idx_to_iid = {x:y for(y,x) in iid_to_idx.items()}\n",
        "\n",
        "te = []\n",
        "\n",
        "idx = 0\n",
        "for i, l in enumerate(te_tags):\n",
        "    view = l\n",
        "    ret = [] \n",
        "    for item_id in view:\n",
        "        if item_id not in iid_to_idx:\n",
        "            continue\n",
        "        ret.append(iid_to_idx[item_id])\n",
        "    te.append(ret)"
      ],
      "execution_count": 12,
      "outputs": []
    },
    {
      "cell_type": "code",
      "metadata": {
        "id": "n2uyBej2jqjl",
        "colab_type": "code",
        "colab": {
          "base_uri": "https://localhost:8080/",
          "height": 115,
          "referenced_widgets": [
            "c4c6ea50d0164aa799e6a5f0f3a6f63c",
            "046c90083dc648619c04a029eeee79f4",
            "1cb40369811447aba869df69e4d70f63",
            "e78a2e56453c4896870f809534514074",
            "311aef745cd04a8f86b3168382cc5d1d",
            "1a0b0c8cb3754de88f8960b59f84e5df",
            "2558b12eeb5342d7b6824653be7e15c5",
            "df008439488448d4a6b4d240eb97cf75",
            "17c41b37785942d8be220577117f09c2",
            "68f5f7499ade4536b813836855d1c297",
            "7a5d128d29a0445fbf6f1b3cba4004c0",
            "4fa1a9f578cb400685c58a947a8766d1",
            "a77f92d16f8e4b6fa406b42ea8302dff",
            "32339485c0b14524b4f69746feb1295a",
            "969d93ec9c9142fc98703871c50e5019",
            "808ff1258d4d481391b4e3f7458ef299"
          ]
        },
        "outputId": "d60a7647-9ff3-4b72-a202-87cf119fcb3e"
      },
      "source": [
        "rows = np.repeat(0,len(tr[0]))\n",
        "cols = tr[0]\n",
        "vals = np.repeat(1,len(tr[0]))\n",
        "tr_csr = csr_matrix((vals, (rows, cols)),[1, n_items]) # train 데이터의 첫 row를 csr_matrix화\n",
        "\n",
        "for i in tqdm(range(1, len(tr))): # train 데이터를 stack을 쌓는 방식으로 csr_matrix화\n",
        "    rows = np.repeat(0,len(tr[i]))\n",
        "    cols = tr[i]\n",
        "    vals = np.repeat(1,len(tr[i]))\n",
        "    new_csr = csr_matrix((vals, (rows, cols)),[1, n_items])\n",
        "    tr_csr = vstack([tr_csr, new_csr])\n",
        "\n",
        "\n",
        "rows = np.repeat(0,len(te[0]))\n",
        "cols = te[0]\n",
        "vals = np.repeat(1,len(te[0]))\n",
        "te_csr = csr_matrix((vals, (rows, cols)),[1, n_items]) # test(validation) 데이터의 첫 row를 csr_matrix화\n",
        "\n",
        "for i in tqdm(range(1, len(te))): # test(validation) 데이터를 stack을 쌓는 방식으로 csr_matrix화\n",
        "    rows = np.repeat(0,len(te[i]))\n",
        "    cols = te[i]\n",
        "    vals = np.repeat(1,len(te[i]))\n",
        "    new_csr = csr_matrix((vals, (rows, cols)),[1, n_items])\n",
        "    te_csr = vstack([te_csr, new_csr]) \n",
        "\n",
        "tag_te_csr= te_csr\n",
        "tag_tr_csr= tr_csr"
      ],
      "execution_count": 13,
      "outputs": [
        {
          "output_type": "display_data",
          "data": {
            "application/vnd.jupyter.widget-view+json": {
              "model_id": "c4c6ea50d0164aa799e6a5f0f3a6f63c",
              "version_minor": 0,
              "version_major": 2
            },
            "text/plain": [
              "HBox(children=(FloatProgress(value=0.0, max=115070.0), HTML(value='')))"
            ]
          },
          "metadata": {
            "tags": []
          }
        },
        {
          "output_type": "stream",
          "text": [
            "\n"
          ],
          "name": "stdout"
        },
        {
          "output_type": "display_data",
          "data": {
            "application/vnd.jupyter.widget-view+json": {
              "model_id": "17c41b37785942d8be220577117f09c2",
              "version_minor": 0,
              "version_major": 2
            },
            "text/plain": [
              "HBox(children=(FloatProgress(value=0.0, max=23014.0), HTML(value='')))"
            ]
          },
          "metadata": {
            "tags": []
          }
        },
        {
          "output_type": "stream",
          "text": [
            "\n"
          ],
          "name": "stdout"
        }
      ]
    },
    {
      "cell_type": "code",
      "metadata": {
        "id": "soHjgSh8FyjM",
        "colab_type": "code",
        "colab": {
          "base_uri": "https://localhost:8080/",
          "height": 34
        },
        "outputId": "1c3cf0c0-94f2-4897-ed6b-1aef661cd5f5"
      },
      "source": [
        "print(\"tag_test csr size:\", tag_te_csr.shape, \"tag_train csr size:\", tag_tr_csr.shape)"
      ],
      "execution_count": 20,
      "outputs": [
        {
          "output_type": "stream",
          "text": [
            "test csr size: (23015, 29160) train csr size: (115071, 29160)\n"
          ],
          "name": "stdout"
        }
      ]
    },
    {
      "cell_type": "markdown",
      "metadata": {
        "id": "BSmRvGwX0rAI",
        "colab_type": "text"
      },
      "source": [
        "## 여기서 부터 train data만 다룸."
      ]
    },
    {
      "cell_type": "markdown",
      "metadata": {
        "id": "n15L6kzqsYF4",
        "colab_type": "text"
      },
      "source": [
        "# Noising Data for autoencoder\n",
        "트레인 데이터만 넣는다."
      ]
    },
    {
      "cell_type": "code",
      "metadata": {
        "id": "uH_oTHcfq5sK",
        "colab_type": "code",
        "colab": {}
      },
      "source": [
        "# noising\n",
        "\n",
        "def noising(csr_mat, noise):\n",
        "    for i in tqdm(range(csr_mat.shape[0])):\n",
        "        nonzero_col = csr_mat[i].nonzero()[1]\n",
        "        nonzero_col_ran = random.sample(list(nonzero_col),int(noise * len(nonzero_col)))\n",
        "        \n",
        "        for col in nonzero_col_ran:\n",
        "            csr_mat[i, col] = 0\n",
        "        csr_mat.eliminate_zeros() \n",
        "    return csr_mat"
      ],
      "execution_count": 93,
      "outputs": []
    },
    {
      "cell_type": "code",
      "metadata": {
        "id": "o_MlefVpsXSr",
        "colab_type": "code",
        "colab": {}
      },
      "source": [
        "\n",
        "# noising song's sparse matrix\n",
        "song_spa=noising(song_tr_csr, 0.5)\n",
        "\n",
        "# noising tag's sparse matrix\n",
        "tag_spa=noising(tag_tr_csr, 0.5)"
      ],
      "execution_count": null,
      "outputs": []
    },
    {
      "cell_type": "markdown",
      "metadata": {
        "id": "iQaX7lOgxOwV",
        "colab_type": "text"
      },
      "source": [
        "# Sparse matrix to Sparse Tensor\n"
      ]
    },
    {
      "cell_type": "code",
      "metadata": {
        "id": "ljA5xGjAxN0E",
        "colab_type": "code",
        "colab": {}
      },
      "source": [
        "# sp.sparse.csr_matrix -> tf.SparseTensor로 변환\n",
        "import scipy as sp\n",
        "\n",
        "def convert_sparse_matrix_to_sparse_tensor(X):\n",
        "    coo = X.tocoo()\n",
        "    indices = np.mat([coo.row, coo.col]).transpose()\n",
        "    return tf.cast(tf.SparseTensor(indices, coo.data, coo.shape), dtype = tf.float32)\n",
        "\n",
        "# tf.SparseTensor -> sp.sparse.csr_matrix로 변환\n",
        "def convert_sparse_tensor_to_sparse_matrix(X):\n",
        "    coo = sp.sparse.coo_matrix((X.values, \n",
        "                                (np.array(X.indices)[:, 0], \n",
        "                                 np.array(X.indices)[:, 1])), \n",
        "                               shape = np.array(X.shape))\n",
        "    return coo.tocsr()"
      ],
      "execution_count": 97,
      "outputs": []
    },
    {
      "cell_type": "code",
      "metadata": {
        "id": "tDTSjs5BxfHJ",
        "colab_type": "code",
        "colab": {}
      },
      "source": [
        "song_spa_tensor = convert_sparse_matrix_to_sparse_tensor(song_spa)\n",
        "tag_spa_tensor = convert_sparse_matrix_to_sparse_tensor(tag_spa)"
      ],
      "execution_count": 98,
      "outputs": []
    },
    {
      "cell_type": "code",
      "metadata": {
        "id": "wCIXaWtqx0sr",
        "colab_type": "code",
        "colab": {
          "base_uri": "https://localhost:8080/",
          "height": 54
        },
        "outputId": "045a215a-276e-4570-d833-a487407932f6"
      },
      "source": [
        "print(type(song_spa_tensor), type(tag_spa_tensor))"
      ],
      "execution_count": 100,
      "outputs": [
        {
          "output_type": "stream",
          "text": [
            "<class 'tensorflow.python.framework.sparse_tensor.SparseTensor'> <class 'tensorflow.python.framework.sparse_tensor.SparseTensor'>\n"
          ],
          "name": "stdout"
        }
      ]
    },
    {
      "cell_type": "markdown",
      "metadata": {
        "id": "upwJhbK7vqfI",
        "colab_type": "text"
      },
      "source": [
        "## 엉엉 진짜 모르겠삼"
      ]
    },
    {
      "cell_type": "code",
      "metadata": {
        "id": "5E_wDokfwmd9",
        "colab_type": "code",
        "colab": {
          "base_uri": "https://localhost:8080/",
          "height": 51
        },
        "outputId": "55a1d7d6-3660-4eb1-a54a-b91eb20e6d02"
      },
      "source": [
        "print(\"song test csr size:\", song_spa_tensor.shape, \"song train csr size:\", song_tr_csr.shape)\n",
        "\n",
        "print(\"tag_test csr size:\", tag_te_csr.shape, \"tag_train csr size:\", tag_tr_csr.shape)"
      ],
      "execution_count": 96,
      "outputs": [
        {
          "output_type": "stream",
          "text": [
            "song test csr size: (23015, 615142) song train csr size: (115071, 615142)\n",
            "tag_test csr size: (23015, 29160) tag_train csr size: (115071, 29160)\n"
          ],
          "name": "stdout"
        }
      ]
    },
    {
      "cell_type": "code",
      "metadata": {
        "id": "LxN-ZuX9vsQB",
        "colab_type": "code",
        "colab": {
          "base_uri": "https://localhost:8080/",
          "height": 283
        },
        "outputId": "9ab48e43-b367-40ca-ff6e-1d317d812fe3"
      },
      "source": [
        "# 스파스 매트릭스 \n",
        "from keras.layers import Input, Dense\n",
        "from keras.models import Model\n",
        "\n",
        "# 인코딩될 표현(representation)의 크기\n",
        "encoding_dim = 32\n",
        "\n",
        "'''32 floats -> 24.5의 압축으로 입력이 784 float라고 가정 '''\n",
        "\n",
        "# 입력 플레이스홀더\n",
        "input_img = Input(shape(615142,))  # train_song size\n",
        "\n",
        "# \"encoded\"는 입력의 인코딩된 표현\n",
        "encoded = Dense(encoding_dim, activation='relu')(input_img)\n",
        "\n",
        "# \"decoded\"는 입력의 손실있는 재구성 (lossy reconstruction)\n",
        "decoded = Dense(115071*615142, activation='sigmoid')(encoded)\n",
        "\n",
        "# 입력을 입력의 재구성으로 매핑할 모델\n",
        "autoencoder = Model(input_img, decoded)"
      ],
      "execution_count": 1,
      "outputs": [
        {
          "output_type": "stream",
          "text": [
            "Using TensorFlow backend.\n"
          ],
          "name": "stderr"
        },
        {
          "output_type": "error",
          "ename": "NameError",
          "evalue": "ignored",
          "traceback": [
            "\u001b[0;31m---------------------------------------------------------------------------\u001b[0m",
            "\u001b[0;31mNameError\u001b[0m                                 Traceback (most recent call last)",
            "\u001b[0;32m<ipython-input-1-16b3546523be>\u001b[0m in \u001b[0;36m<module>\u001b[0;34m()\u001b[0m\n\u001b[1;32m      9\u001b[0m \u001b[0;34m\u001b[0m\u001b[0m\n\u001b[1;32m     10\u001b[0m \u001b[0;31m# 입력 플레이스홀더\u001b[0m\u001b[0;34m\u001b[0m\u001b[0;34m\u001b[0m\u001b[0;34m\u001b[0m\u001b[0m\n\u001b[0;32m---> 11\u001b[0;31m \u001b[0minput_img\u001b[0m \u001b[0;34m=\u001b[0m \u001b[0mInput\u001b[0m\u001b[0;34m(\u001b[0m\u001b[0msong_spa_tensor\u001b[0m\u001b[0;34m)\u001b[0m  \u001b[0;31m# train_song size\u001b[0m\u001b[0;34m\u001b[0m\u001b[0;34m\u001b[0m\u001b[0m\n\u001b[0m\u001b[1;32m     12\u001b[0m \u001b[0;34m\u001b[0m\u001b[0m\n\u001b[1;32m     13\u001b[0m \u001b[0;31m# \"encoded\"는 입력의 인코딩된 표현\u001b[0m\u001b[0;34m\u001b[0m\u001b[0;34m\u001b[0m\u001b[0;34m\u001b[0m\u001b[0m\n",
            "\u001b[0;31mNameError\u001b[0m: name 'song_spa_tensor' is not defined"
          ]
        }
      ]
    },
    {
      "cell_type": "code",
      "metadata": {
        "id": "_x5snseVvsTu",
        "colab_type": "code",
        "colab": {}
      },
      "source": [
        "# 이 모델은 입력을 입력의 인코딩된 입력의 표현으로 매핑\n",
        "# 2차 인코딩 인듯\n",
        "encoder = Model(input_img, encoded)\n"
      ],
      "execution_count": null,
      "outputs": []
    },
    {
      "cell_type": "code",
      "metadata": {
        "id": "GXb6jxO1vsNk",
        "colab_type": "code",
        "colab": {}
      },
      "source": [
        "# 디코더 모델\n",
        "\n",
        "# 인코딩된 입력을 위한 플레이스 홀더\n",
        "encoded_input = Input(shape=(encoding_dim,))\n",
        "# 오토인코더 모델의 마지막 레이어 얻기\n",
        "decoder_layer = autoencoder.layers[-1]\n",
        "# 디코더 모델 생성\n",
        "decoder = Model(encoded_input, decoder_layer(encoded_input))"
      ],
      "execution_count": null,
      "outputs": []
    },
    {
      "cell_type": "code",
      "metadata": {
        "id": "5VoaAj5J4Qsv",
        "colab_type": "code",
        "colab": {}
      },
      "source": [
        "# 픽셀마다 = 데이터마다 시그모이드 손실을 사용하도록 모델을 구성하고, \n",
        "# optimizer로 Adadelta를 사용합시다.\n",
        "\n",
        "autoencoder.compile(optimizer='adadelta', loss='sigmoid')\n",
        "''' loss = \"binary_crossentrophy\" '''"
      ],
      "execution_count": null,
      "outputs": []
    },
    {
      "cell_type": "code",
      "metadata": {
        "id": "_ziu6aQJ4Qpv",
        "colab_type": "code",
        "colab": {}
      },
      "source": [
        "# 50번 훈련.\n",
        "X_train = \n",
        "X_test = mnist.load_data()\n",
        "\n",
        "\n",
        "autoencoder.fit(X_train, X_train,\n",
        "                epochs=50,\n",
        "                batch_size=256,\n",
        "                shuffle=True,\n",
        "                validation_data=(X_test, X_test))"
      ],
      "execution_count": null,
      "outputs": []
    },
    {
      "cell_type": "code",
      "metadata": {
        "id": "GQyMtWtf4bMY",
        "colab_type": "code",
        "colab": {}
      },
      "source": [
        ""
      ],
      "execution_count": null,
      "outputs": []
    },
    {
      "cell_type": "markdown",
      "metadata": {
        "id": "Zh0qnPNseNdY",
        "colab_type": "text"
      },
      "source": [
        "# tf 1.0? autoencoder + sparse matrix\n",
        "망했지만 참고할 수 있도록!! 남겨둔다"
      ]
    },
    {
      "cell_type": "markdown",
      "metadata": {
        "id": "M0wxsxNYfkkt",
        "colab_type": "text"
      },
      "source": [
        "## try"
      ]
    },
    {
      "cell_type": "code",
      "metadata": {
        "id": "Tc45GKwBeTNj",
        "colab_type": "code",
        "colab": {}
      },
      "source": [
        "from __future__ import print_function\n",
        "import numpy as np\n",
        "np.random.seed(1337)  # for reproducibility\n",
        "\n",
        "from keras.datasets import reuters\n",
        "from keras.models import Sequential\n",
        "from keras.layers import Dense, Dropout, Activation\n",
        "from keras.utils import np_utils\n",
        "from keras.preprocessing.text import Tokenizer\n"
      ],
      "execution_count": 56,
      "outputs": []
    },
    {
      "cell_type": "code",
      "metadata": {
        "id": "7PabLxcHfnH2",
        "colab_type": "code",
        "colab": {
          "base_uri": "https://localhost:8080/",
          "height": 173
        },
        "outputId": "5c11e0b4-5aab-4b34-a58a-269d4e968ee4"
      },
      "source": [
        "max_words = 1000\n",
        "batch_size = 32\n",
        "nb_epoch = 5\n"
      ],
      "execution_count": 57,
      "outputs": [
        {
          "output_type": "stream",
          "text": [
            "Loading data...\n",
            "Downloading data from https://s3.amazonaws.com/text-datasets/reuters.npz\n"
          ],
          "name": "stdout"
        },
        {
          "output_type": "stream",
          "text": [
            "/usr/local/lib/python3.6/dist-packages/keras/datasets/reuters.py:47: UserWarning: The `nb_words` argument in `load_data` has been renamed `num_words`.\n",
            "  warnings.warn('The `nb_words` argument in `load_data` '\n"
          ],
          "name": "stderr"
        },
        {
          "output_type": "stream",
          "text": [
            "2113536/2110848 [==============================] - 2s 1us/step\n",
            "8982 train sequences\n",
            "2246 test sequences\n",
            "46 classes\n"
          ],
          "name": "stdout"
        }
      ]
    },
    {
      "cell_type": "code",
      "metadata": {
        "id": "eEGeEtyTp8Gy",
        "colab_type": "code",
        "colab": {}
      },
      "source": [
        "type()"
      ],
      "execution_count": null,
      "outputs": []
    },
    {
      "cell_type": "code",
      "metadata": {
        "id": "Vi39Ez0pnctc",
        "colab_type": "code",
        "colab": {
          "base_uri": "https://localhost:8080/",
          "height": 51
        },
        "outputId": "63403cec-fd3b-4bed-b83e-146429a8983c"
      },
      "source": [
        "X_train = Y_train = song_tr_csr \n",
        "X_test = Y_test = song_te_csr \n",
        "print(X_train.shape, 'train sequences')\n",
        "print(X_test.shape, 'test sequences')"
      ],
      "execution_count": 82,
      "outputs": [
        {
          "output_type": "stream",
          "text": [
            "(115071, 615142) train sequences\n",
            "(23015, 615142) test sequences\n"
          ],
          "name": "stdout"
        }
      ]
    },
    {
      "cell_type": "code",
      "metadata": {
        "id": "_SiJtOCMp6gP",
        "colab_type": "code",
        "colab": {}
      },
      "source": [
        ""
      ],
      "execution_count": null,
      "outputs": []
    },
    {
      "cell_type": "code",
      "metadata": {
        "id": "s7CMgdARgtZ8",
        "colab_type": "code",
        "colab": {
          "base_uri": "https://localhost:8080/",
          "height": 1000
        },
        "outputId": "be6f2757-1a98-4fb0-fa36-c142a4c6558e"
      },
      "source": [
        "print('Building model...')\n",
        "model = Sequential()\n",
        "model.add(Dense(512))\n",
        "model.add(Activation('relu'))\n",
        "model.add(Dropout(0.5))\n",
        "model.add(Dense(256))\n",
        "model.add(Activation('softmax'))\n",
        "\n",
        "model.compile(loss='sigmoid',\n",
        "          optimizer='adam',\n",
        "          metrics=['accuracy'])\n",
        "\n",
        "history = model.fit(X_train, Y_train,\n",
        "                nb_epoch=nb_epoch, batch_size=batch_size,\n",
        "                verbose=1) \n",
        "# validation_split=0.1\n",
        "# score = model.evaluate(X_test, Y_test,\n",
        "#                       batch_size=batch_size, verbose=1)\n",
        "# print('Test score:', score[0])\n",
        "# print('Test accuracy:', score[1])\n"
      ],
      "execution_count": 89,
      "outputs": [
        {
          "output_type": "stream",
          "text": [
            "Building model...\n"
          ],
          "name": "stdout"
        },
        {
          "output_type": "stream",
          "text": [
            "/usr/local/lib/python3.6/dist-packages/ipykernel_launcher.py:15: UserWarning: The `nb_epoch` argument in `fit` has been renamed `epochs`.\n",
            "  from ipykernel import kernelapp as app\n"
          ],
          "name": "stderr"
        },
        {
          "output_type": "error",
          "ename": "ValueError",
          "evalue": "ignored",
          "traceback": [
            "\u001b[0;31m---------------------------------------------------------------------------\u001b[0m",
            "\u001b[0;31mValueError\u001b[0m                                Traceback (most recent call last)",
            "\u001b[0;32m<ipython-input-89-f88d9ebc4473>\u001b[0m in \u001b[0;36m<module>\u001b[0;34m()\u001b[0m\n\u001b[1;32m     13\u001b[0m history = model.fit(X_train, Y_train,\n\u001b[1;32m     14\u001b[0m                 \u001b[0mnb_epoch\u001b[0m\u001b[0;34m=\u001b[0m\u001b[0mnb_epoch\u001b[0m\u001b[0;34m,\u001b[0m \u001b[0mbatch_size\u001b[0m\u001b[0;34m=\u001b[0m\u001b[0mbatch_size\u001b[0m\u001b[0;34m,\u001b[0m\u001b[0;34m\u001b[0m\u001b[0;34m\u001b[0m\u001b[0m\n\u001b[0;32m---> 15\u001b[0;31m                 verbose=1) \n\u001b[0m\u001b[1;32m     16\u001b[0m \u001b[0;31m# validation_split=0.1\u001b[0m\u001b[0;34m\u001b[0m\u001b[0;34m\u001b[0m\u001b[0;34m\u001b[0m\u001b[0m\n\u001b[1;32m     17\u001b[0m \u001b[0;31m#score = model.evaluate(X_test, Y_test,\u001b[0m\u001b[0;34m\u001b[0m\u001b[0;34m\u001b[0m\u001b[0;34m\u001b[0m\u001b[0m\n",
            "\u001b[0;32m/usr/local/lib/python3.6/dist-packages/keras/engine/training.py\u001b[0m in \u001b[0;36mfit\u001b[0;34m(self, x, y, batch_size, epochs, verbose, callbacks, validation_split, validation_data, shuffle, class_weight, sample_weight, initial_epoch, steps_per_epoch, validation_steps, validation_freq, max_queue_size, workers, use_multiprocessing, **kwargs)\u001b[0m\n\u001b[1;32m   1152\u001b[0m             \u001b[0msample_weight\u001b[0m\u001b[0;34m=\u001b[0m\u001b[0msample_weight\u001b[0m\u001b[0;34m,\u001b[0m\u001b[0;34m\u001b[0m\u001b[0;34m\u001b[0m\u001b[0m\n\u001b[1;32m   1153\u001b[0m             \u001b[0mclass_weight\u001b[0m\u001b[0;34m=\u001b[0m\u001b[0mclass_weight\u001b[0m\u001b[0;34m,\u001b[0m\u001b[0;34m\u001b[0m\u001b[0;34m\u001b[0m\u001b[0m\n\u001b[0;32m-> 1154\u001b[0;31m             batch_size=batch_size)\n\u001b[0m\u001b[1;32m   1155\u001b[0m \u001b[0;34m\u001b[0m\u001b[0m\n\u001b[1;32m   1156\u001b[0m         \u001b[0;31m# Prepare validation data.\u001b[0m\u001b[0;34m\u001b[0m\u001b[0;34m\u001b[0m\u001b[0;34m\u001b[0m\u001b[0m\n",
            "\u001b[0;32m/usr/local/lib/python3.6/dist-packages/keras/engine/training.py\u001b[0m in \u001b[0;36m_standardize_user_data\u001b[0;34m(self, x, y, sample_weight, class_weight, check_array_lengths, batch_size)\u001b[0m\n\u001b[1;32m    495\u001b[0m                                      \u001b[0;34m'either a single '\u001b[0m\u001b[0;34m\u001b[0m\u001b[0;34m\u001b[0m\u001b[0m\n\u001b[1;32m    496\u001b[0m                                      \u001b[0;34m'array or a list of arrays. '\u001b[0m\u001b[0;34m\u001b[0m\u001b[0;34m\u001b[0m\u001b[0m\n\u001b[0;32m--> 497\u001b[0;31m                                      'You passed: x=' + str(x))\n\u001b[0m\u001b[1;32m    498\u001b[0m                 \u001b[0mall_inputs\u001b[0m\u001b[0;34m.\u001b[0m\u001b[0mappend\u001b[0m\u001b[0;34m(\u001b[0m\u001b[0mx\u001b[0m\u001b[0;34m)\u001b[0m\u001b[0;34m\u001b[0m\u001b[0;34m\u001b[0m\u001b[0m\n\u001b[1;32m    499\u001b[0m \u001b[0;34m\u001b[0m\u001b[0m\n",
            "\u001b[0;31mValueError\u001b[0m: Please provide as model inputs either a single array or a list of arrays. You passed: x=  (0, 0)\t1\n  (0, 1)\t1\n  (0, 2)\t1\n  (0, 3)\t1\n  (0, 4)\t1\n  (0, 5)\t1\n  (0, 6)\t1\n  (0, 7)\t1\n  (0, 8)\t1\n  (0, 9)\t1\n  (0, 10)\t1\n  (0, 11)\t1\n  (0, 12)\t1\n  (0, 13)\t1\n  (0, 14)\t1\n  (0, 15)\t1\n  (0, 16)\t1\n  (0, 17)\t1\n  (0, 18)\t1\n  (1, 19)\t1\n  (1, 20)\t1\n  (1, 21)\t1\n  (1, 22)\t1\n  (1, 23)\t1\n  (1, 24)\t1\n  :\t:\n  (115070, 148790)\t1\n  (115070, 152153)\t1\n  (115070, 152971)\t1\n  (115070, 158556)\t1\n  (115070, 159981)\t1\n  (115070, 167238)\t1\n  (115070, 168941)\t1\n  (115070, 177557)\t1\n  (115070, 198533)\t1\n  (115070, 204461)\t1\n  (115070, 227041)\t1\n  (115070, 283396)\t1\n  (115070, 293555)\t1\n  (115070, 296045)\t1\n  (115070, 325770)\t1\n  (115070, 325818)\t1\n  (115070, 341200)\t1\n  (115070, 358145)\t1\n  (115070, 361502)\t1\n  (115070, 380113)\t1\n  (115070, 407970)\t1\n  (115070, 447705)\t1\n  (115070, 615139)\t1\n  (115070, 615140)\t1\n  (115070, 615141)\t1"
          ]
        }
      ]
    },
    {
      "cell_type": "code",
      "metadata": {
        "id": "w5KHcBDmgEMN",
        "colab_type": "code",
        "colab": {}
      },
      "source": [
        ""
      ],
      "execution_count": null,
      "outputs": []
    },
    {
      "cell_type": "markdown",
      "metadata": {
        "id": "JKNPDZxMQ_px",
        "colab_type": "text"
      },
      "source": [
        "### random noise\n",
        "\n"
      ]
    },
    {
      "cell_type": "code",
      "metadata": {
        "id": "okHb4DJlRPBR",
        "colab_type": "code",
        "colab": {}
      },
      "source": [
        "# layer params\n",
        "# 일단 노래만!\n",
        "noise_level = 1.0  # 노이즈를 얼마나 줄것인가\n",
        "\n",
        "#n_inputs = 28 * 28 #인풋사이즈!\n",
        "n_inputs = song_tr_csr.shape[0] * song_tr_csr.shape[1]\n",
        "n_hidden1 = 300 \n",
        "n_hidden2 = 150 # coding units \n",
        "n_hidden3 = n_hidden1 \n",
        "n_outputs = n_inputs\n"
      ],
      "execution_count": 22,
      "outputs": []
    },
    {
      "cell_type": "code",
      "metadata": {
        "id": "zVD_ofXFRPGP",
        "colab_type": "code",
        "colab": {}
      },
      "source": [
        "# train params # ################ \n",
        "learning_rate = 0.01 \n",
        "n_epochs = 5 \n",
        "batch_size = 150 \n"
      ],
      "execution_count": 23,
      "outputs": []
    },
    {
      "cell_type": "code",
      "metadata": {
        "id": "AkhEdNIMPkuT",
        "colab_type": "code",
        "colab": {
          "base_uri": "https://localhost:8080/",
          "height": 34
        },
        "outputId": "d80c6393-949c-450c-976a-1e4a9182c9c2"
      },
      "source": [
        "tf.executing_eagerly()"
      ],
      "execution_count": 28,
      "outputs": [
        {
          "output_type": "execute_result",
          "data": {
            "text/plain": [
              "True"
            ]
          },
          "metadata": {
            "tags": []
          },
          "execution_count": 28
        }
      ]
    },
    {
      "cell_type": "code",
      "metadata": {
        "id": "ttn8fT3eRPD1",
        "colab_type": "code",
        "colab": {
          "base_uri": "https://localhost:8080/",
          "height": 453
        },
        "outputId": "c1ebaaf4-40cd-4612-a2fd-2af372dd5c39"
      },
      "source": [
        "# denoising autoencoder \n",
        "\n",
        "inputs = tf.compat.v1.placeholder(tf.float32, shape=[None, n_inputs]) # add gaussian noise \n",
        "inputs_noisy = inputs + noise_level * tf.random_normal(tf.shape(inputs)) \n",
        "hidden1 = tf.layers.dense(inputs_noisy, n_hidden1, activation=tf.nn.relu, name='hidden1') \n",
        "hidden2 = tf.layers.dense(hidden1, n_hidden2, activation=tf.nn.relu, name='hidden2') \n",
        "hidden3 = tf.layers.dense(hidden2, n_hidden3, activation=tf.nn.relu, name='hidden3') \n",
        "outputs = tf.layers.dense(hidden3, n_outputs, name='outputs')\n",
        "\n"
      ],
      "execution_count": 26,
      "outputs": [
        {
          "output_type": "error",
          "ename": "RuntimeError",
          "evalue": "ignored",
          "traceback": [
            "\u001b[0;31m---------------------------------------------------------------------------\u001b[0m",
            "\u001b[0;31mRuntimeError\u001b[0m                              Traceback (most recent call last)",
            "\u001b[0;32m<ipython-input-26-cb42a705f391>\u001b[0m in \u001b[0;36m<module>\u001b[0;34m()\u001b[0m\n\u001b[1;32m      1\u001b[0m \u001b[0;31m# denoising autoencoder\u001b[0m\u001b[0;34m\u001b[0m\u001b[0;34m\u001b[0m\u001b[0;34m\u001b[0m\u001b[0m\n\u001b[1;32m      2\u001b[0m \u001b[0;34m\u001b[0m\u001b[0m\n\u001b[0;32m----> 3\u001b[0;31m \u001b[0minputs\u001b[0m \u001b[0;34m=\u001b[0m \u001b[0mtf\u001b[0m\u001b[0;34m.\u001b[0m\u001b[0mcompat\u001b[0m\u001b[0;34m.\u001b[0m\u001b[0mv1\u001b[0m\u001b[0;34m.\u001b[0m\u001b[0mplaceholder\u001b[0m\u001b[0;34m(\u001b[0m\u001b[0mtf\u001b[0m\u001b[0;34m.\u001b[0m\u001b[0mfloat32\u001b[0m\u001b[0;34m,\u001b[0m \u001b[0mshape\u001b[0m\u001b[0;34m=\u001b[0m\u001b[0;34m[\u001b[0m\u001b[0;32mNone\u001b[0m\u001b[0;34m,\u001b[0m \u001b[0mn_inputs\u001b[0m\u001b[0;34m]\u001b[0m\u001b[0;34m)\u001b[0m \u001b[0;31m# add gaussian noise\u001b[0m\u001b[0;34m\u001b[0m\u001b[0;34m\u001b[0m\u001b[0m\n\u001b[0m\u001b[1;32m      4\u001b[0m \u001b[0minputs_noisy\u001b[0m \u001b[0;34m=\u001b[0m \u001b[0minputs\u001b[0m \u001b[0;34m+\u001b[0m \u001b[0mnoise_level\u001b[0m \u001b[0;34m*\u001b[0m \u001b[0mtf\u001b[0m\u001b[0;34m.\u001b[0m\u001b[0mrandom_normal\u001b[0m\u001b[0;34m(\u001b[0m\u001b[0mtf\u001b[0m\u001b[0;34m.\u001b[0m\u001b[0mshape\u001b[0m\u001b[0;34m(\u001b[0m\u001b[0minputs\u001b[0m\u001b[0;34m)\u001b[0m\u001b[0;34m)\u001b[0m\u001b[0;34m\u001b[0m\u001b[0;34m\u001b[0m\u001b[0m\n\u001b[1;32m      5\u001b[0m \u001b[0mhidden1\u001b[0m \u001b[0;34m=\u001b[0m \u001b[0mtf\u001b[0m\u001b[0;34m.\u001b[0m\u001b[0mlayers\u001b[0m\u001b[0;34m.\u001b[0m\u001b[0mdense\u001b[0m\u001b[0;34m(\u001b[0m\u001b[0minputs_noisy\u001b[0m\u001b[0;34m,\u001b[0m \u001b[0mn_hidden1\u001b[0m\u001b[0;34m,\u001b[0m \u001b[0mactivation\u001b[0m\u001b[0;34m=\u001b[0m\u001b[0mtf\u001b[0m\u001b[0;34m.\u001b[0m\u001b[0mnn\u001b[0m\u001b[0;34m.\u001b[0m\u001b[0mrelu\u001b[0m\u001b[0;34m,\u001b[0m \u001b[0mname\u001b[0m\u001b[0;34m=\u001b[0m\u001b[0;34m'hidden1'\u001b[0m\u001b[0;34m)\u001b[0m\u001b[0;34m\u001b[0m\u001b[0;34m\u001b[0m\u001b[0m\n",
            "\u001b[0;32m/usr/local/lib/python3.6/dist-packages/tensorflow/python/ops/array_ops.py\u001b[0m in \u001b[0;36mplaceholder\u001b[0;34m(dtype, shape, name)\u001b[0m\n\u001b[1;32m   3021\u001b[0m   \"\"\"\n\u001b[1;32m   3022\u001b[0m   \u001b[0;32mif\u001b[0m \u001b[0mcontext\u001b[0m\u001b[0;34m.\u001b[0m\u001b[0mexecuting_eagerly\u001b[0m\u001b[0;34m(\u001b[0m\u001b[0;34m)\u001b[0m\u001b[0;34m:\u001b[0m\u001b[0;34m\u001b[0m\u001b[0;34m\u001b[0m\u001b[0m\n\u001b[0;32m-> 3023\u001b[0;31m     raise RuntimeError(\"tf.placeholder() is not compatible with \"\n\u001b[0m\u001b[1;32m   3024\u001b[0m                        \"eager execution.\")\n\u001b[1;32m   3025\u001b[0m \u001b[0;34m\u001b[0m\u001b[0m\n",
            "\u001b[0;31mRuntimeError\u001b[0m: tf.placeholder() is not compatible with eager execution."
          ]
        }
      ]
    },
    {
      "cell_type": "code",
      "metadata": {
        "id": "2m1tETlGRO-r",
        "colab_type": "code",
        "colab": {}
      },
      "source": [
        "# loss \n",
        "reconstruction_loss = tf.losses.mean_squared_error(labels=inputs, predictions=outputs)\n",
        "\n",
        "# optimizer \n",
        "train_op = tf.train.AdamOptimizer(learning_rate).minimize(reconstruction_loss) \n",
        "\n",
        "# saver \n",
        "saver = tf.train.Saver()\n"
      ],
      "execution_count": null,
      "outputs": []
    },
    {
      "cell_type": "code",
      "metadata": {
        "id": "EQok5FeGB56F",
        "colab_type": "code",
        "colab": {}
      },
      "source": [
        ""
      ],
      "execution_count": null,
      "outputs": []
    },
    {
      "cell_type": "code",
      "metadata": {
        "id": "1DVQrZnhB53m",
        "colab_type": "code",
        "colab": {}
      },
      "source": [
        ""
      ],
      "execution_count": null,
      "outputs": []
    },
    {
      "cell_type": "markdown",
      "metadata": {
        "id": "27WQgOVwQUTa",
        "colab_type": "text"
      },
      "source": [
        "## tf 2.0 autoencoder\n"
      ]
    },
    {
      "cell_type": "code",
      "metadata": {
        "id": "xx7VbY2HQeOI",
        "colab_type": "code",
        "colab": {}
      },
      "source": [
        "from tensorflow import keras\n",
        "from tensorflow.keras import layers"
      ],
      "execution_count": 53,
      "outputs": []
    },
    {
      "cell_type": "code",
      "metadata": {
        "id": "PCSfJnGkcAnx",
        "colab_type": "code",
        "colab": {}
      },
      "source": [
        "# add noise(import augmenters)\n",
        "noise= 0.1\n",
        "\n",
        "# inputs_noisy = inputs + noise_level * tf.random_normal(tf.shape(inputs)) "
      ],
      "execution_count": 55,
      "outputs": []
    },
    {
      "cell_type": "code",
      "metadata": {
        "id": "rk7ERskAaFHS",
        "colab_type": "code",
        "colab": {}
      },
      "source": [
        "# model\n",
        "class Encoder(keras.Model):\n",
        "    def __init__(self, intermediate_dim):\n",
        "        super(Encoder, self).__init__()\n",
        "        self.input_layer = keras.layers.Dense(units=original_dim,activation=tf.nn.relu)\n",
        "        self.hidden_layer = keras.layers.Dense(units=intermediate_dim, activation=tf.nn.relu)\n",
        "        self.output_layer = keras.layers.Dense(units=intermediate_dim, activation=tf.nn.sigmoid)\n",
        "\n",
        "    def call(self, inputs):\n",
        "        x = self.input_layer(inputs)\n",
        "        x = self.hidden_layer(x)\n",
        "        return self.output_layer(x)\n",
        "\n",
        "class Decoder(keras.Model):\n",
        "    def __init__(self, intermediate_dim, original_dim):\n",
        "        super(Decoder, self).__init__()\n",
        "        self.input_layer = keras.layers.Dense(units=intermediate_dim, activation=tf.nn.relu)\n",
        "        self.hidden_layer = keras.layers.Dense(units=intermediate_dim,activation=tf.nn.relu)\n",
        "        self.output_layer = keras.layers.Dense(units=original_dim,activation=tf.nn.sigmoid)\n",
        "\n",
        "    def call(self, code):\n",
        "        x = self.input_layer(code)\n",
        "        x = self.hidden_layer(x)\n",
        "        return self.output_layer(x)\n",
        "\n"
      ],
      "execution_count": 45,
      "outputs": []
    },
    {
      "cell_type": "code",
      "metadata": {
        "id": "XnjnCePpbRXX",
        "colab_type": "code",
        "colab": {}
      },
      "source": [
        "class Autoencoder(keras.Model):\n",
        "    def __init__(self, intermediate_dim, original_dim):\n",
        "        super(Autoencoder, self).__init__()\n",
        "        self.encoder = Encoder(intermediate_dim=intermediate_dim)\n",
        "        self.decoder = Decoder(intermediate_dim=intermediate_dim,original_dim=original_dim)\n",
        "\n",
        "    def call(self, inputs):\n",
        "        code = self.encoder(inputs)\n",
        "        reconstructed = self.decoder(code)\n",
        "        return reconstructed\n",
        "\n"
      ],
      "execution_count": 46,
      "outputs": []
    },
    {
      "cell_type": "code",
      "metadata": {
        "id": "nszn6OUrbcmD",
        "colab_type": "code",
        "colab": {
          "base_uri": "https://localhost:8080/",
          "height": 249
        },
        "outputId": "b6912293-f2af-43a4-9390-99697045dd77"
      },
      "source": [
        "\n",
        "\n",
        "autoencoder = Autoencoder(\n",
        "    intermediate_dim=intermediate_dim,\n",
        "    original_dim=original_dim\n",
        ")"
      ],
      "execution_count": 47,
      "outputs": [
        {
          "output_type": "error",
          "ename": "NameError",
          "evalue": "ignored",
          "traceback": [
            "\u001b[0;31m---------------------------------------------------------------------------\u001b[0m",
            "\u001b[0;31mNameError\u001b[0m                                 Traceback (most recent call last)",
            "\u001b[0;32m<ipython-input-47-88ef348d58f4>\u001b[0m in \u001b[0;36m<module>\u001b[0;34m()\u001b[0m\n\u001b[1;32m      1\u001b[0m autoencoder = Autoencoder(\n\u001b[0;32m----> 2\u001b[0;31m     \u001b[0mintermediate_dim\u001b[0m\u001b[0;34m=\u001b[0m\u001b[0mintermediate_dim\u001b[0m\u001b[0;34m,\u001b[0m\u001b[0;34m\u001b[0m\u001b[0;34m\u001b[0m\u001b[0m\n\u001b[0m\u001b[1;32m      3\u001b[0m     \u001b[0moriginal_dim\u001b[0m\u001b[0;34m=\u001b[0m\u001b[0moriginal_dim\u001b[0m\u001b[0;34m\u001b[0m\u001b[0;34m\u001b[0m\u001b[0m\n\u001b[1;32m      4\u001b[0m )\n",
            "\u001b[0;31mNameError\u001b[0m: name 'intermediate_dim' is not defined"
          ]
        }
      ]
    },
    {
      "cell_type": "code",
      "metadata": {
        "id": "c_hZb8hsQ3WU",
        "colab_type": "code",
        "colab": {}
      },
      "source": [
        "# sequential model\n",
        "\n",
        "model = tf.keras.Sequential()\n",
        "# 64개의 유닛을 가진 완전 연결 층을 모델에 추가합니다:\n",
        "model.add(layers.Dense(64, activation='relu'))\n",
        "# 또 하나를 추가합니다:\n",
        "model.add(layers.Dense(64, activation='relu'))\n",
        "# 10개의 출력 유닛을 가진 소프트맥스 층을 추가합니다:\n",
        "model.add(layers.Dense(10, activation='softmax'))"
      ],
      "execution_count": 36,
      "outputs": []
    },
    {
      "cell_type": "code",
      "metadata": {
        "id": "hgd1XbWURHRh",
        "colab_type": "code",
        "colab": {
          "base_uri": "https://localhost:8080/",
          "height": 34
        },
        "outputId": "753e4667-5b26-4efb-b7bc-987d215c1f7e"
      },
      "source": [
        "# 시그모이드 활성화 층을 만듭니다:\n",
        "layers.Dense(64, activation='sigmoid')\n",
        "# 또는 다음도 가능합니다:\n",
        "layers.Dense(64, activation=tf.keras.activations.sigmoid)\n",
        "\n",
        "# 커널 행렬에 L1 규제가 적용된 선형 활성화 층. 하이퍼파라미터 0.01은 규제의 양을 조절합니다:\n",
        "layers.Dense(64, kernel_regularizer=tf.keras.regularizers.l1(0.01))\n",
        "\n",
        "# 절편 벡터에 L2 규제가 적용된 선형 활성화 층. 하이퍼파라미터 0.01은 규제의 양을 조절합니다:\n",
        "layers.Dense(64, bias_regularizer=tf.keras.regularizers.l2(0.01))\n",
        "\n",
        "# 커널을 랜덤한 직교 행렬로 초기화한 선형 활성화 층:\n",
        "layers.Dense(64, kernel_initializer='orthogonal')\n",
        "\n",
        "# 절편 벡터를 상수 2.0으로 설정한 선형 활성화 층:\n",
        "layers.Dense(64, bias_initializer=tf.keras.initializers.Constant(2.0))"
      ],
      "execution_count": 37,
      "outputs": [
        {
          "output_type": "execute_result",
          "data": {
            "text/plain": [
              "<tensorflow.python.keras.layers.core.Dense at 0x7f74df4ebe10>"
            ]
          },
          "metadata": {
            "tags": []
          },
          "execution_count": 37
        }
      ]
    },
    {
      "cell_type": "code",
      "metadata": {
        "id": "ScCwiwQMRP31",
        "colab_type": "code",
        "colab": {}
      },
      "source": [
        "model = tf.keras.Sequential([\n",
        "# 64개의 유닛을 가진 완전 연결 층을 모델에 추가합니다:\n",
        "layers.Dense(64, activation='relu', input_shape=(32,)),\n",
        "# 또 하나를 추가합니다:\n",
        "layers.Dense(64, activation='relu'),\n",
        "# 10개의 출력 유닛을 가진 소프트맥스 층을 추가합니다:\n",
        "layers.Dense(10, activation='softmax')])\n",
        "\n",
        "model.compile(optimizer=tf.keras.optimizers.Adam(0.001),\n",
        "              loss='sigmoid',\n",
        "              metrics=['accuracy'])"
      ],
      "execution_count": 38,
      "outputs": []
    },
    {
      "cell_type": "code",
      "metadata": {
        "id": "E5T-CtVAZn3D",
        "colab_type": "code",
        "colab": {}
      },
      "source": [
        ""
      ],
      "execution_count": null,
      "outputs": []
    },
    {
      "cell_type": "markdown",
      "metadata": {
        "id": "i5mtr5DZRTk5",
        "colab_type": "text"
      },
      "source": [
        "Tf.keras.Model.compile\n",
        "- optimizer : 훈련과정 설정, 옵티마이저 설정\n",
        "- loss : 최적화 과정에서 최소화될 손실함수. mse, crossentrophy 등\n",
        "- metrics : 훈련을 모니터링하기위해 사용됨. \n",
        "- 참고 링크 : 기본 텐서플로 모델 만들기 https://www.tensorflow.org/guide/keras/overview?hl=ko\n",
        "- 참고 링크 : 오토인코더 텐서플로 2.0 https://blog.naver.com/dbwlsruddus0309/221743817185\n",
        "\n"
      ]
    },
    {
      "cell_type": "code",
      "metadata": {
        "id": "FImAc5npRPsZ",
        "colab_type": "code",
        "colab": {}
      },
      "source": [
        ""
      ],
      "execution_count": null,
      "outputs": []
    }
  ]
}