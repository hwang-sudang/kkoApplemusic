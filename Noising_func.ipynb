{
  "nbformat": 4,
  "nbformat_minor": 0,
  "metadata": {
    "kernelspec": {
      "display_name": "Python 3",
      "language": "python",
      "name": "python3"
    },
    "language_info": {
      "codemirror_mode": {
        "name": "ipython",
        "version": 3
      },
      "file_extension": ".py",
      "mimetype": "text/x-python",
      "name": "python",
      "nbconvert_exporter": "python",
      "pygments_lexer": "ipython3",
      "version": "3.7.6"
    },
    "colab": {
      "name": "Noising_func.ipynb",
      "provenance": [],
      "include_colab_link": true
    }
  },
  "cells": [
    {
      "cell_type": "markdown",
      "metadata": {
        "id": "view-in-github",
        "colab_type": "text"
      },
      "source": [
        "<a href=\"https://colab.research.google.com/github/hwang-sudang/kkoApplemusic/blob/sparse_matrix/Noising_func.ipynb\" target=\"_parent\"><img src=\"https://colab.research.google.com/assets/colab-badge.svg\" alt=\"Open In Colab\"/></a>"
      ]
    },
    {
      "cell_type": "code",
      "metadata": {
        "id": "5HFclr2SJqZB",
        "colab_type": "code",
        "colab": {}
      },
      "source": [
        "from scipy.sparse import csr_matrix, vstack\n",
        "from tqdm.auto import tqdm\n",
        "import numpy as np\n",
        "import pandas as pd\n",
        "import random"
      ],
      "execution_count": null,
      "outputs": []
    },
    {
      "cell_type": "code",
      "metadata": {
        "id": "UCyGklYHJqZF",
        "colab_type": "code",
        "colab": {}
      },
      "source": [
        "tr = pd.read_json(\"train.json\")\n",
        "tr_songs = tr.songs.tolist()"
      ],
      "execution_count": null,
      "outputs": []
    },
    {
      "cell_type": "code",
      "metadata": {
        "id": "fUEmjxatJqZJ",
        "colab_type": "code",
        "colab": {}
      },
      "source": [
        "tr = []\n",
        "iid_to_idx = {}\n",
        "tag_to_idx = {} \n",
        "idx = 0\n",
        "\n",
        "for i, l in enumerate(tr_songs):\n",
        "    view = l\n",
        "    for item_id in view:\n",
        "        if item_id not in iid_to_idx:\n",
        "            iid_to_idx[item_id] = idx\n",
        "            idx += 1\n",
        "    view = [iid_to_idx[x] for x in view]\n",
        "    tr.append(view)\n",
        "\n",
        "n_items = len(iid_to_idx)\n",
        "\n",
        "idx_to_iid = {x:y for(y,x) in iid_to_idx.items()}\n"
      ],
      "execution_count": null,
      "outputs": []
    },
    {
      "cell_type": "code",
      "metadata": {
        "id": "71PW1khyJqZL",
        "colab_type": "code",
        "colab": {
          "referenced_widgets": [
            "e24d7e16401c4f6fbe7842bdbc0dee95"
          ]
        },
        "outputId": "553250a5-567c-4a1d-9eb8-5df420fa8ce3"
      },
      "source": [
        "rows = np.repeat(0,len(tr[0]))\n",
        "cols = tr[0]\n",
        "vals = np.repeat(1,len(tr[0]))\n",
        "tr_csr = csr_matrix((vals, (rows, cols)),[1, n_items]) # train 데이터의 첫 row를 csr_matrix화\n",
        "\n",
        "for i in tqdm(range(1, len(tr))): # train 데이터를 stack을 쌓는 방식으로 csr_matrix화\n",
        "    rows = np.repeat(0,len(tr[i]))\n",
        "    cols = tr[i]\n",
        "    vals = np.repeat(1,len(tr[i]))\n",
        "    new_csr = csr_matrix((vals, (rows, cols)),[1, n_items])\n",
        "    tr_csr = vstack([tr_csr, new_csr])"
      ],
      "execution_count": null,
      "outputs": [
        {
          "output_type": "display_data",
          "data": {
            "application/vnd.jupyter.widget-view+json": {
              "model_id": "e24d7e16401c4f6fbe7842bdbc0dee95",
              "version_major": 2,
              "version_minor": 0
            },
            "text/plain": [
              "HBox(children=(FloatProgress(value=0.0, max=115070.0), HTML(value='')))"
            ]
          },
          "metadata": {
            "tags": []
          }
        },
        {
          "output_type": "stream",
          "text": [
            "\n"
          ],
          "name": "stdout"
        }
      ]
    },
    {
      "cell_type": "code",
      "metadata": {
        "id": "gGVdjzbtJqZP",
        "colab_type": "code",
        "colab": {},
        "outputId": "a6bff202-6b7d-4aad-bd31-2c7b9be994fb"
      },
      "source": [
        "print(\"{}\".format(tr_csr))"
      ],
      "execution_count": null,
      "outputs": [
        {
          "output_type": "stream",
          "text": [
            "  (0, 0)\t1\n",
            "  (0, 1)\t1\n",
            "  (0, 2)\t1\n",
            "  (0, 3)\t1\n",
            "  (0, 4)\t1\n",
            "  (0, 5)\t1\n",
            "  (0, 6)\t1\n",
            "  (0, 7)\t1\n",
            "  (0, 8)\t1\n",
            "  (0, 9)\t1\n",
            "  (0, 10)\t1\n",
            "  (0, 11)\t1\n",
            "  (0, 12)\t1\n",
            "  (0, 13)\t1\n",
            "  (0, 14)\t1\n",
            "  (0, 15)\t1\n",
            "  (0, 16)\t1\n",
            "  (0, 17)\t1\n",
            "  (0, 18)\t1\n",
            "  (1, 19)\t1\n",
            "  (1, 20)\t1\n",
            "  (1, 21)\t1\n",
            "  (1, 22)\t1\n",
            "  (1, 23)\t1\n",
            "  (1, 24)\t1\n",
            "  :\t:\n",
            "  (115070, 148790)\t1\n",
            "  (115070, 152153)\t1\n",
            "  (115070, 152971)\t1\n",
            "  (115070, 158556)\t1\n",
            "  (115070, 159981)\t1\n",
            "  (115070, 167238)\t1\n",
            "  (115070, 168941)\t1\n",
            "  (115070, 177557)\t1\n",
            "  (115070, 198533)\t1\n",
            "  (115070, 204461)\t1\n",
            "  (115070, 227041)\t1\n",
            "  (115070, 283396)\t1\n",
            "  (115070, 293555)\t1\n",
            "  (115070, 296045)\t1\n",
            "  (115070, 325770)\t1\n",
            "  (115070, 325818)\t1\n",
            "  (115070, 341200)\t1\n",
            "  (115070, 358145)\t1\n",
            "  (115070, 361502)\t1\n",
            "  (115070, 380113)\t1\n",
            "  (115070, 407970)\t1\n",
            "  (115070, 447705)\t1\n",
            "  (115070, 615139)\t1\n",
            "  (115070, 615140)\t1\n",
            "  (115070, 615141)\t1\n"
          ],
          "name": "stdout"
        }
      ]
    },
    {
      "cell_type": "code",
      "metadata": {
        "id": "mBUTbdS5JqZR",
        "colab_type": "code",
        "colab": {}
      },
      "source": [
        "def noising(csr_mat, noise):\n",
        "    for i in tqdm(range(csr_mat.shape[0])):\n",
        "        nonzero_col = csr_mat[i].nonzero()[1]\n",
        "        nonzero_col_ran = random.sample(list(nonzero_col),int(noise * len(nonzero_col)))\n",
        "        \n",
        "        for col in nonzero_col_ran:\n",
        "            csr_mat[i, col] = 0\n",
        "        csr_mat.eliminate_zeros() \n",
        "    return csr_mat"
      ],
      "execution_count": null,
      "outputs": []
    },
    {
      "cell_type": "code",
      "metadata": {
        "id": "usDnJGNaJqZT",
        "colab_type": "code",
        "colab": {
          "referenced_widgets": [
            "b36fbb3e5e13455fbea9eda847d46de3"
          ]
        },
        "outputId": "e6499048-ae00-4fb5-8f0a-52cd577926f3"
      },
      "source": [
        "spa=noising(tr_csr, 0.5)"
      ],
      "execution_count": null,
      "outputs": [
        {
          "output_type": "display_data",
          "data": {
            "application/vnd.jupyter.widget-view+json": {
              "model_id": "b36fbb3e5e13455fbea9eda847d46de3",
              "version_major": 2,
              "version_minor": 0
            },
            "text/plain": [
              "HBox(children=(FloatProgress(value=0.0, max=115071.0), HTML(value='')))"
            ]
          },
          "metadata": {
            "tags": []
          }
        },
        {
          "output_type": "stream",
          "text": [
            "\n"
          ],
          "name": "stdout"
        }
      ]
    },
    {
      "cell_type": "code",
      "metadata": {
        "id": "H3YiJJYqJqZW",
        "colab_type": "code",
        "colab": {},
        "outputId": "aaa094b7-9c08-440e-f609-d601bd329d8e"
      },
      "source": [
        "print(\"{}\".format(spa))"
      ],
      "execution_count": null,
      "outputs": [
        {
          "output_type": "stream",
          "text": [
            "  (0, 1)\t1\n",
            "  (0, 2)\t1\n",
            "  (0, 3)\t1\n",
            "  (0, 8)\t1\n",
            "  (0, 9)\t1\n",
            "  (0, 12)\t1\n",
            "  (0, 13)\t1\n",
            "  (0, 14)\t1\n",
            "  (0, 17)\t1\n",
            "  (0, 18)\t1\n",
            "  (1, 19)\t1\n",
            "  (1, 20)\t1\n",
            "  (1, 22)\t1\n",
            "  (1, 23)\t1\n",
            "  (1, 24)\t1\n",
            "  (1, 25)\t1\n",
            "  (1, 27)\t1\n",
            "  (1, 28)\t1\n",
            "  (1, 32)\t1\n",
            "  (1, 35)\t1\n",
            "  (1, 36)\t1\n",
            "  (1, 38)\t1\n",
            "  (1, 39)\t1\n",
            "  (1, 42)\t1\n",
            "  (1, 47)\t1\n",
            "  :\t:\n",
            "  (115070, 104728)\t1\n",
            "  (115070, 105197)\t1\n",
            "  (115070, 106399)\t1\n",
            "  (115070, 106467)\t1\n",
            "  (115070, 107706)\t1\n",
            "  (115070, 114828)\t1\n",
            "  (115070, 118224)\t1\n",
            "  (115070, 128642)\t1\n",
            "  (115070, 148790)\t1\n",
            "  (115070, 152153)\t1\n",
            "  (115070, 158556)\t1\n",
            "  (115070, 159981)\t1\n",
            "  (115070, 168941)\t1\n",
            "  (115070, 177557)\t1\n",
            "  (115070, 227041)\t1\n",
            "  (115070, 283396)\t1\n",
            "  (115070, 325770)\t1\n",
            "  (115070, 325818)\t1\n",
            "  (115070, 361502)\t1\n",
            "  (115070, 380113)\t1\n",
            "  (115070, 407970)\t1\n",
            "  (115070, 447705)\t1\n",
            "  (115070, 615139)\t1\n",
            "  (115070, 615140)\t1\n",
            "  (115070, 615141)\t1\n"
          ],
          "name": "stdout"
        }
      ]
    },
    {
      "cell_type": "code",
      "metadata": {
        "id": "6dZo13LAJqZZ",
        "colab_type": "code",
        "colab": {}
      },
      "source": [
        ""
      ],
      "execution_count": null,
      "outputs": []
    }
  ]
}